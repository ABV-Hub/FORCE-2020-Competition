{
 "cells": [
  {
   "cell_type": "code",
   "execution_count": 1,
   "metadata": {},
   "outputs": [],
   "source": [
    "import numpy as np\n",
    "import pandas as pd\n",
    "import pickle\n",
    "from pandas import DataFrame, Series\n",
    "from sklearn.model_selection import train_test_split\n",
    "from sklearn.preprocessing import StandardScaler, RobustScaler\n",
    "from sklearn.utils import shuffle\n",
    "from sklearn.preprocessing import LabelEncoder, OrdinalEncoder\n",
    "from sklearn.ensemble import RandomForestClassifier\n",
    "from sklearn.model_selection import KFold, cross_validate, cross_val_predict, cross_val_score\n",
    "from sklearn.model_selection import GridSearchCV, RandomizedSearchCV\n",
    "from sklearn.kernel_ridge import KernelRidge\n",
    "from sklearn.metrics import f1_score, confusion_matrix\n",
    "import matplotlib.pyplot as plt\n",
    "import matplotlib.colors as colors\n",
    "from mpl_toolkits.axes_grid1 import make_axes_locatable\n",
    "from matplotlib.colors import ListedColormap\n",
    "from sklearn.multiclass import OneVsOneClassifier\n",
    "from sklearn.ensemble import GradientBoostingClassifier\n",
    "from sklearn.svm import SVC\n",
    "import xgboost as xgb\n",
    "from sklearn.linear_model import RidgeClassifier\n",
    "\n",
    "plt.style.use('seaborn-white')\n",
    "pd.set_option(\"display.max_rows\", 50, \"float_format\", lambda v: \"%.2f\" % v )\n",
    "pd.set_option('display.max_columns', 50)\n",
    "# suppress the chained indexing warnings entirely\n",
    "pd.set_option('mode.chained_assignment',None)\n",
    "\n",
    "# Fixing random state for reproducibility \n",
    "seed_value = 42\n",
    "np.random.seed(seed_value)\n",
    "\n",
    "%matplotlib inline"
   ]
  },
  {
   "cell_type": "code",
   "execution_count": null,
   "metadata": {},
   "outputs": [],
   "source": [
    "#!pip install missingno"
   ]
  },
  {
   "cell_type": "markdown",
   "metadata": {},
   "source": [
    "### Load training data"
   ]
  },
  {
   "cell_type": "code",
   "execution_count": 2,
   "metadata": {},
   "outputs": [],
   "source": [
    "data = pd.read_csv('D:/.jupyter/Machine_Predicted_Lithology/train.csv', sep=';', memory_map=True)"
   ]
  },
  {
   "cell_type": "code",
   "execution_count": 3,
   "metadata": {},
   "outputs": [
    {
     "data": {
      "text/html": [
       "<div>\n",
       "<style scoped>\n",
       "    .dataframe tbody tr th:only-of-type {\n",
       "        vertical-align: middle;\n",
       "    }\n",
       "\n",
       "    .dataframe tbody tr th {\n",
       "        vertical-align: top;\n",
       "    }\n",
       "\n",
       "    .dataframe thead th {\n",
       "        text-align: right;\n",
       "    }\n",
       "</style>\n",
       "<table border=\"1\" class=\"dataframe\">\n",
       "  <thead>\n",
       "    <tr style=\"text-align: right;\">\n",
       "      <th></th>\n",
       "      <th>WELL</th>\n",
       "      <th>DEPTH_MD</th>\n",
       "      <th>X_LOC</th>\n",
       "      <th>Y_LOC</th>\n",
       "      <th>Z_LOC</th>\n",
       "      <th>GROUP</th>\n",
       "      <th>FORMATION</th>\n",
       "      <th>CALI</th>\n",
       "      <th>RSHA</th>\n",
       "      <th>RMED</th>\n",
       "      <th>RDEP</th>\n",
       "      <th>RHOB</th>\n",
       "      <th>GR</th>\n",
       "      <th>SGR</th>\n",
       "      <th>NPHI</th>\n",
       "      <th>PEF</th>\n",
       "      <th>DTC</th>\n",
       "      <th>SP</th>\n",
       "      <th>BS</th>\n",
       "      <th>ROP</th>\n",
       "      <th>DTS</th>\n",
       "      <th>DCAL</th>\n",
       "      <th>DRHO</th>\n",
       "      <th>MUDWEIGHT</th>\n",
       "      <th>RMIC</th>\n",
       "      <th>ROPA</th>\n",
       "      <th>RXO</th>\n",
       "      <th>FORCE_2020_LITHOFACIES_LITHOLOGY</th>\n",
       "      <th>FORCE_2020_LITHOFACIES_CONFIDENCE</th>\n",
       "    </tr>\n",
       "  </thead>\n",
       "  <tbody>\n",
       "    <tr>\n",
       "      <th>30423</th>\n",
       "      <td>15/9-15</td>\n",
       "      <td>2343.30</td>\n",
       "      <td>436806.47</td>\n",
       "      <td>6463010.50</td>\n",
       "      <td>-2318.01</td>\n",
       "      <td>ROGALAND GP.</td>\n",
       "      <td>Lista Fm.</td>\n",
       "      <td>14.88</td>\n",
       "      <td>0.77</td>\n",
       "      <td>0.77</td>\n",
       "      <td>0.66</td>\n",
       "      <td>2.21</td>\n",
       "      <td>66.81</td>\n",
       "      <td>nan</td>\n",
       "      <td>0.40</td>\n",
       "      <td>3.03</td>\n",
       "      <td>121.58</td>\n",
       "      <td>88.21</td>\n",
       "      <td>12.25</td>\n",
       "      <td>12.76</td>\n",
       "      <td>nan</td>\n",
       "      <td>2.63</td>\n",
       "      <td>0.12</td>\n",
       "      <td>0.14</td>\n",
       "      <td>nan</td>\n",
       "      <td>nan</td>\n",
       "      <td>0.57</td>\n",
       "      <td>65000</td>\n",
       "      <td>1.00</td>\n",
       "    </tr>\n",
       "    <tr>\n",
       "      <th>1073159</th>\n",
       "      <td>35/3-7 S</td>\n",
       "      <td>3582.47</td>\n",
       "      <td>543919.75</td>\n",
       "      <td>6856653.50</td>\n",
       "      <td>-3477.86</td>\n",
       "      <td>CROMER KNOLL GP.</td>\n",
       "      <td>Roedby Fm.</td>\n",
       "      <td>8.65</td>\n",
       "      <td>nan</td>\n",
       "      <td>5.60</td>\n",
       "      <td>4.99</td>\n",
       "      <td>2.65</td>\n",
       "      <td>93.30</td>\n",
       "      <td>nan</td>\n",
       "      <td>0.17</td>\n",
       "      <td>5.03</td>\n",
       "      <td>63.60</td>\n",
       "      <td>nan</td>\n",
       "      <td>8.50</td>\n",
       "      <td>10.56</td>\n",
       "      <td>150.21</td>\n",
       "      <td>nan</td>\n",
       "      <td>-0.01</td>\n",
       "      <td>nan</td>\n",
       "      <td>6.63</td>\n",
       "      <td>10.41</td>\n",
       "      <td>nan</td>\n",
       "      <td>65000</td>\n",
       "      <td>1.00</td>\n",
       "    </tr>\n",
       "    <tr>\n",
       "      <th>436368</th>\n",
       "      <td>25/9-1</td>\n",
       "      <td>734.81</td>\n",
       "      <td>483545.34</td>\n",
       "      <td>6590313.00</td>\n",
       "      <td>-709.76</td>\n",
       "      <td>NORDLAND GP.</td>\n",
       "      <td>Utsira Fm.</td>\n",
       "      <td>nan</td>\n",
       "      <td>nan</td>\n",
       "      <td>nan</td>\n",
       "      <td>1.00</td>\n",
       "      <td>nan</td>\n",
       "      <td>55.92</td>\n",
       "      <td>nan</td>\n",
       "      <td>nan</td>\n",
       "      <td>nan</td>\n",
       "      <td>nan</td>\n",
       "      <td>nan</td>\n",
       "      <td>17.50</td>\n",
       "      <td>109.27</td>\n",
       "      <td>nan</td>\n",
       "      <td>nan</td>\n",
       "      <td>nan</td>\n",
       "      <td>nan</td>\n",
       "      <td>nan</td>\n",
       "      <td>nan</td>\n",
       "      <td>nan</td>\n",
       "      <td>65030</td>\n",
       "      <td>1.00</td>\n",
       "    </tr>\n",
       "    <tr>\n",
       "      <th>290688</th>\n",
       "      <td>25/3-1</td>\n",
       "      <td>1075.97</td>\n",
       "      <td>487291.25</td>\n",
       "      <td>6643945.00</td>\n",
       "      <td>-1053.94</td>\n",
       "      <td>HORDALAND GP.</td>\n",
       "      <td>NaN</td>\n",
       "      <td>17.65</td>\n",
       "      <td>nan</td>\n",
       "      <td>0.87</td>\n",
       "      <td>1.23</td>\n",
       "      <td>2.04</td>\n",
       "      <td>41.80</td>\n",
       "      <td>nan</td>\n",
       "      <td>nan</td>\n",
       "      <td>0.77</td>\n",
       "      <td>148.78</td>\n",
       "      <td>21.60</td>\n",
       "      <td>17.50</td>\n",
       "      <td>7.97</td>\n",
       "      <td>nan</td>\n",
       "      <td>0.22</td>\n",
       "      <td>0.05</td>\n",
       "      <td>0.96</td>\n",
       "      <td>nan</td>\n",
       "      <td>nan</td>\n",
       "      <td>nan</td>\n",
       "      <td>30000</td>\n",
       "      <td>1.00</td>\n",
       "    </tr>\n",
       "    <tr>\n",
       "      <th>1118085</th>\n",
       "      <td>35/9-10 S</td>\n",
       "      <td>3580.06</td>\n",
       "      <td>537897.75</td>\n",
       "      <td>6791142.50</td>\n",
       "      <td>-3069.18</td>\n",
       "      <td>BAAT GP.</td>\n",
       "      <td>Rannoch Fm.</td>\n",
       "      <td>8.57</td>\n",
       "      <td>nan</td>\n",
       "      <td>7.63</td>\n",
       "      <td>8.07</td>\n",
       "      <td>2.57</td>\n",
       "      <td>126.82</td>\n",
       "      <td>nan</td>\n",
       "      <td>0.26</td>\n",
       "      <td>3.62</td>\n",
       "      <td>77.51</td>\n",
       "      <td>nan</td>\n",
       "      <td>8.50</td>\n",
       "      <td>31.77</td>\n",
       "      <td>140.67</td>\n",
       "      <td>nan</td>\n",
       "      <td>0.04</td>\n",
       "      <td>nan</td>\n",
       "      <td>nan</td>\n",
       "      <td>nan</td>\n",
       "      <td>nan</td>\n",
       "      <td>65000</td>\n",
       "      <td>1.00</td>\n",
       "    </tr>\n",
       "    <tr>\n",
       "      <th>564809</th>\n",
       "      <td>31/2-7</td>\n",
       "      <td>543.91</td>\n",
       "      <td>524586.50</td>\n",
       "      <td>6747128.50</td>\n",
       "      <td>-518.90</td>\n",
       "      <td>NORDLAND GP.</td>\n",
       "      <td>NaN</td>\n",
       "      <td>17.80</td>\n",
       "      <td>nan</td>\n",
       "      <td>2.29</td>\n",
       "      <td>2.98</td>\n",
       "      <td>2.23</td>\n",
       "      <td>40.29</td>\n",
       "      <td>nan</td>\n",
       "      <td>0.42</td>\n",
       "      <td>nan</td>\n",
       "      <td>142.21</td>\n",
       "      <td>49.07</td>\n",
       "      <td>nan</td>\n",
       "      <td>nan</td>\n",
       "      <td>nan</td>\n",
       "      <td>nan</td>\n",
       "      <td>0.01</td>\n",
       "      <td>nan</td>\n",
       "      <td>nan</td>\n",
       "      <td>nan</td>\n",
       "      <td>nan</td>\n",
       "      <td>65000</td>\n",
       "      <td>1.00</td>\n",
       "    </tr>\n",
       "    <tr>\n",
       "      <th>745628</th>\n",
       "      <td>33/9-17</td>\n",
       "      <td>2600.58</td>\n",
       "      <td>438440.25</td>\n",
       "      <td>6814142.50</td>\n",
       "      <td>-2573.35</td>\n",
       "      <td>SHETLAND GP.</td>\n",
       "      <td>Kyrre Fm.</td>\n",
       "      <td>8.53</td>\n",
       "      <td>1.44</td>\n",
       "      <td>1.39</td>\n",
       "      <td>1.33</td>\n",
       "      <td>2.52</td>\n",
       "      <td>80.00</td>\n",
       "      <td>nan</td>\n",
       "      <td>0.34</td>\n",
       "      <td>4.40</td>\n",
       "      <td>109.65</td>\n",
       "      <td>87.75</td>\n",
       "      <td>8.50</td>\n",
       "      <td>nan</td>\n",
       "      <td>nan</td>\n",
       "      <td>nan</td>\n",
       "      <td>-0.00</td>\n",
       "      <td>nan</td>\n",
       "      <td>nan</td>\n",
       "      <td>6.81</td>\n",
       "      <td>2.04</td>\n",
       "      <td>65000</td>\n",
       "      <td>1.00</td>\n",
       "    </tr>\n",
       "    <tr>\n",
       "      <th>531364</th>\n",
       "      <td>30/6-5</td>\n",
       "      <td>2325.03</td>\n",
       "      <td>497435.72</td>\n",
       "      <td>6728314.00</td>\n",
       "      <td>-2299.98</td>\n",
       "      <td>SHETLAND GP.</td>\n",
       "      <td>Lista Fm.</td>\n",
       "      <td>14.65</td>\n",
       "      <td>1.96</td>\n",
       "      <td>1.85</td>\n",
       "      <td>1.67</td>\n",
       "      <td>2.41</td>\n",
       "      <td>27.03</td>\n",
       "      <td>nan</td>\n",
       "      <td>0.28</td>\n",
       "      <td>nan</td>\n",
       "      <td>90.84</td>\n",
       "      <td>73.18</td>\n",
       "      <td>nan</td>\n",
       "      <td>nan</td>\n",
       "      <td>nan</td>\n",
       "      <td>nan</td>\n",
       "      <td>0.00</td>\n",
       "      <td>nan</td>\n",
       "      <td>nan</td>\n",
       "      <td>nan</td>\n",
       "      <td>2.09</td>\n",
       "      <td>70000</td>\n",
       "      <td>1.00</td>\n",
       "    </tr>\n",
       "    <tr>\n",
       "      <th>936673</th>\n",
       "      <td>34/8-1</td>\n",
       "      <td>2787.79</td>\n",
       "      <td>469565.44</td>\n",
       "      <td>6803862.00</td>\n",
       "      <td>-2746.41</td>\n",
       "      <td>BAAT GP.</td>\n",
       "      <td>Tarbert Fm.</td>\n",
       "      <td>8.00</td>\n",
       "      <td>1.49</td>\n",
       "      <td>54.16</td>\n",
       "      <td>36.71</td>\n",
       "      <td>2.19</td>\n",
       "      <td>72.84</td>\n",
       "      <td>nan</td>\n",
       "      <td>0.25</td>\n",
       "      <td>50.90</td>\n",
       "      <td>117.96</td>\n",
       "      <td>68.47</td>\n",
       "      <td>8.38</td>\n",
       "      <td>nan</td>\n",
       "      <td>nan</td>\n",
       "      <td>nan</td>\n",
       "      <td>-0.07</td>\n",
       "      <td>nan</td>\n",
       "      <td>nan</td>\n",
       "      <td>nan</td>\n",
       "      <td>1.82</td>\n",
       "      <td>30000</td>\n",
       "      <td>1.00</td>\n",
       "    </tr>\n",
       "    <tr>\n",
       "      <th>144292</th>\n",
       "      <td>16/4-1</td>\n",
       "      <td>1058.20</td>\n",
       "      <td>449949.31</td>\n",
       "      <td>6500257.00</td>\n",
       "      <td>-1033.07</td>\n",
       "      <td>HORDALAND GP.</td>\n",
       "      <td>Utsira Fm.</td>\n",
       "      <td>16.72</td>\n",
       "      <td>1.20</td>\n",
       "      <td>1.20</td>\n",
       "      <td>1.34</td>\n",
       "      <td>1.85</td>\n",
       "      <td>90.45</td>\n",
       "      <td>nan</td>\n",
       "      <td>0.51</td>\n",
       "      <td>nan</td>\n",
       "      <td>148.09</td>\n",
       "      <td>140.19</td>\n",
       "      <td>14.75</td>\n",
       "      <td>1.83</td>\n",
       "      <td>nan</td>\n",
       "      <td>1.97</td>\n",
       "      <td>-0.00</td>\n",
       "      <td>0.14</td>\n",
       "      <td>nan</td>\n",
       "      <td>nan</td>\n",
       "      <td>nan</td>\n",
       "      <td>65000</td>\n",
       "      <td>1.00</td>\n",
       "    </tr>\n",
       "  </tbody>\n",
       "</table>\n",
       "</div>"
      ],
      "text/plain": [
       "              WELL  DEPTH_MD     X_LOC      Y_LOC    Z_LOC             GROUP  \\\n",
       "30423      15/9-15   2343.30 436806.47 6463010.50 -2318.01      ROGALAND GP.   \n",
       "1073159   35/3-7 S   3582.47 543919.75 6856653.50 -3477.86  CROMER KNOLL GP.   \n",
       "436368      25/9-1    734.81 483545.34 6590313.00  -709.76      NORDLAND GP.   \n",
       "290688      25/3-1   1075.97 487291.25 6643945.00 -1053.94     HORDALAND GP.   \n",
       "1118085  35/9-10 S   3580.06 537897.75 6791142.50 -3069.18          BAAT GP.   \n",
       "564809      31/2-7    543.91 524586.50 6747128.50  -518.90      NORDLAND GP.   \n",
       "745628     33/9-17   2600.58 438440.25 6814142.50 -2573.35      SHETLAND GP.   \n",
       "531364      30/6-5   2325.03 497435.72 6728314.00 -2299.98      SHETLAND GP.   \n",
       "936673      34/8-1   2787.79 469565.44 6803862.00 -2746.41          BAAT GP.   \n",
       "144292      16/4-1   1058.20 449949.31 6500257.00 -1033.07     HORDALAND GP.   \n",
       "\n",
       "           FORMATION  CALI  RSHA  RMED  RDEP  RHOB     GR  SGR  NPHI   PEF  \\\n",
       "30423      Lista Fm. 14.88  0.77  0.77  0.66  2.21  66.81  nan  0.40  3.03   \n",
       "1073159   Roedby Fm.  8.65   nan  5.60  4.99  2.65  93.30  nan  0.17  5.03   \n",
       "436368    Utsira Fm.   nan   nan   nan  1.00   nan  55.92  nan   nan   nan   \n",
       "290688           NaN 17.65   nan  0.87  1.23  2.04  41.80  nan   nan  0.77   \n",
       "1118085  Rannoch Fm.  8.57   nan  7.63  8.07  2.57 126.82  nan  0.26  3.62   \n",
       "564809           NaN 17.80   nan  2.29  2.98  2.23  40.29  nan  0.42   nan   \n",
       "745628     Kyrre Fm.  8.53  1.44  1.39  1.33  2.52  80.00  nan  0.34  4.40   \n",
       "531364     Lista Fm. 14.65  1.96  1.85  1.67  2.41  27.03  nan  0.28   nan   \n",
       "936673   Tarbert Fm.  8.00  1.49 54.16 36.71  2.19  72.84  nan  0.25 50.90   \n",
       "144292    Utsira Fm. 16.72  1.20  1.20  1.34  1.85  90.45  nan  0.51   nan   \n",
       "\n",
       "           DTC     SP    BS    ROP    DTS  DCAL  DRHO  MUDWEIGHT  RMIC  ROPA  \\\n",
       "30423   121.58  88.21 12.25  12.76    nan  2.63  0.12       0.14   nan   nan   \n",
       "1073159  63.60    nan  8.50  10.56 150.21   nan -0.01        nan  6.63 10.41   \n",
       "436368     nan    nan 17.50 109.27    nan   nan   nan        nan   nan   nan   \n",
       "290688  148.78  21.60 17.50   7.97    nan  0.22  0.05       0.96   nan   nan   \n",
       "1118085  77.51    nan  8.50  31.77 140.67   nan  0.04        nan   nan   nan   \n",
       "564809  142.21  49.07   nan    nan    nan   nan  0.01        nan   nan   nan   \n",
       "745628  109.65  87.75  8.50    nan    nan   nan -0.00        nan   nan  6.81   \n",
       "531364   90.84  73.18   nan    nan    nan   nan  0.00        nan   nan   nan   \n",
       "936673  117.96  68.47  8.38    nan    nan   nan -0.07        nan   nan   nan   \n",
       "144292  148.09 140.19 14.75   1.83    nan  1.97 -0.00       0.14   nan   nan   \n",
       "\n",
       "         RXO  FORCE_2020_LITHOFACIES_LITHOLOGY  \\\n",
       "30423   0.57                             65000   \n",
       "1073159  nan                             65000   \n",
       "436368   nan                             65030   \n",
       "290688   nan                             30000   \n",
       "1118085  nan                             65000   \n",
       "564809   nan                             65000   \n",
       "745628  2.04                             65000   \n",
       "531364  2.09                             70000   \n",
       "936673  1.82                             30000   \n",
       "144292   nan                             65000   \n",
       "\n",
       "         FORCE_2020_LITHOFACIES_CONFIDENCE  \n",
       "30423                                 1.00  \n",
       "1073159                               1.00  \n",
       "436368                                1.00  \n",
       "290688                                1.00  \n",
       "1118085                               1.00  \n",
       "564809                                1.00  \n",
       "745628                                1.00  \n",
       "531364                                1.00  \n",
       "936673                                1.00  \n",
       "144292                                1.00  "
      ]
     },
     "execution_count": 3,
     "metadata": {},
     "output_type": "execute_result"
    }
   ],
   "source": [
    "data.sample(10)"
   ]
  },
  {
   "cell_type": "code",
   "execution_count": 4,
   "metadata": {},
   "outputs": [
    {
     "data": {
      "text/plain": [
       "array(['NORDLAND GP.', 'HORDALAND GP.', 'ROGALAND GP.', 'SHETLAND GP.',\n",
       "       'CROMER KNOLL GP.', 'VIKING GP.', 'VESTLAND GP.', 'ZECHSTEIN GP.',\n",
       "       'HEGRE GP.', 'ROTLIEGENDES GP.', 'TYNE GP.', 'BOKNFJORD GP.',\n",
       "       'DUNLIN GP.', 'BAAT GP.', nan], dtype=object)"
      ]
     },
     "execution_count": 4,
     "metadata": {},
     "output_type": "execute_result"
    }
   ],
   "source": [
    "data.GROUP.unique()"
   ]
  },
  {
   "cell_type": "markdown",
   "metadata": {},
   "source": [
    "### Inspecting available logs and interpretations"
   ]
  },
  {
   "cell_type": "markdown",
   "metadata": {},
   "source": [
    "The data contains the metadata columns\n",
    "* WELL: well name\n",
    "* DEPTH_MD: measured depth\n",
    "* X_LOC: UTM X coordinate \n",
    "* Y_LOC: UTM Y coordinate\n",
    "* Z_LOC: DEPTH\n",
    "* GROUP: NPD lithostratigraphy group\n",
    "* FORMATION: NPD lithostratgraphy formation\n",
    "\n",
    "The data contains the well log curves. For example the following:\n",
    "* BS: Bit Size\n",
    "* CALI: Caliper\n",
    "* RDEP: Deep Resistivity\n",
    "* RHOB: Bulk Density\n",
    "* GR: Raw gamma data\n",
    "* SGR: Spectral Gamma Ray\n",
    "* RMED: Medium Resistivity\n",
    "* ROP: Rate of Penetration\n",
    "* NPHI: Neutron Porosity\n",
    "* PEF: Photoelectric Absorption Factor\n",
    "* RSHA: Shallow Resistivity\n",
    "* DTS: Sonic (Sheer Slowness)\n",
    "* DTC: Sonic (Compressional Slowness)\n",
    "\n",
    "See contest page for full list.\n",
    "\n",
    "as well as the interpretation\n",
    "\n",
    "* FORCE_2020_LITHOFACIES_LITHOLOGY: lithology class label\n",
    "* FORCE_2020_LITHOFACIES_CONFIDENCE: confidence in lithology interpretation (1: high, 2: medium, 3: low)"
   ]
  },
  {
   "cell_type": "markdown",
   "metadata": {},
   "source": [
    "There is a total of 83 wells in the training dataset. The `WELL` column is included so the data can be separated per well. This will be necessary for any \"windowed\" approaches where we use non-local information in the ML features. "
   ]
  },
  {
   "cell_type": "code",
   "execution_count": 5,
   "metadata": {
    "scrolled": true
   },
   "outputs": [
    {
     "name": "stdout",
     "output_type": "stream",
     "text": [
      "No of wells: 98\n"
     ]
    },
    {
     "data": {
      "text/plain": [
       "array(['15/9-13', '15/9-15', '15/9-17', '16/1-2', '16/1-6 A', '16/10-1',\n",
       "       '16/10-2', '16/10-3', '16/10-5', '16/11-1 ST3', '16/2-11 A',\n",
       "       '16/2-16', '16/2-6', '16/4-1', '16/5-3', '16/7-4', '16/7-5',\n",
       "       '16/8-1', '17/11-1', '25/11-15', '25/11-19 S', '25/11-5',\n",
       "       '25/2-13 T4', '25/2-14', '25/2-7', '25/3-1', '25/4-5', '25/5-1',\n",
       "       '25/5-4', '25/6-1', '25/6-2', '25/6-3', '25/7-2', '25/8-5 S',\n",
       "       '25/8-7', '25/9-1', '26/4-1', '29/6-1', '30/3-3', '30/3-5 S',\n",
       "       '30/6-5', '31/2-1', '31/2-19 S', '31/2-7', '31/2-8', '31/2-9',\n",
       "       '31/3-1', '31/3-2', '31/3-3', '31/3-4', '31/4-10', '31/4-5',\n",
       "       '31/5-4 S', '31/6-5', '31/6-8', '32/2-1', '33/5-2', '33/6-3 S',\n",
       "       '33/9-1', '33/9-17', '34/10-19', '34/10-21', '34/10-33',\n",
       "       '34/10-35', '34/11-1', '34/11-2 S', '34/12-1', '34/2-4',\n",
       "       '34/3-1 A', '34/4-10 R', '34/5-1 A', '34/5-1 S', '34/7-13',\n",
       "       '34/7-20', '34/7-21', '34/8-1', '34/8-3', '34/8-7 R', '35/11-1',\n",
       "       '35/11-10', '35/11-11', '35/11-12', '35/11-13', '35/11-15 S',\n",
       "       '35/11-6', '35/11-7', '35/12-1', '35/3-7 S', '35/4-1', '35/8-4',\n",
       "       '35/8-6 S', '35/9-10 S', '35/9-2', '35/9-5', '35/9-6 S', '36/7-3',\n",
       "       '7/1-1', '7/1-2 S'], dtype=object)"
      ]
     },
     "execution_count": 5,
     "metadata": {},
     "output_type": "execute_result"
    }
   ],
   "source": [
    "wells = data['WELL'].unique()\n",
    "print('No of wells: %s' % len(wells))\n",
    "wells"
   ]
  },
  {
   "cell_type": "markdown",
   "metadata": {},
   "source": [
    "### The LITHOLOGY column"
   ]
  },
  {
   "cell_type": "markdown",
   "metadata": {},
   "source": [
    "The LITHOLOGY column contains the interpretation. Each number corresponds to a lithology class, given by the following list:"
   ]
  },
  {
   "cell_type": "code",
   "execution_count": 6,
   "metadata": {},
   "outputs": [
    {
     "data": {
      "text/plain": [
       "{30000: 'Sandstone',\n",
       " 65030: 'Sandstone/Shale',\n",
       " 65000: 'Shale',\n",
       " 80000: 'Marl',\n",
       " 74000: 'Dolomite',\n",
       " 70000: 'Limestone',\n",
       " 70032: 'Chalk',\n",
       " 88000: 'Halite',\n",
       " 86000: 'Anhydrite',\n",
       " 99000: 'Tuff',\n",
       " 90000: 'Coal',\n",
       " 93000: 'Basement'}"
      ]
     },
     "execution_count": 6,
     "metadata": {},
     "output_type": "execute_result"
    }
   ],
   "source": [
    "lithology_keys = {} # initialize dictionary\n",
    "litho=['Sandstone', 'Shale', 'SandyShale', 'Limestone', 'Chalk', 'Dolomite', \n",
    "       'Marl', 'Anhydrite', 'Halite', 'Coal', 'Basement', 'Tuff']\n",
    "col = np.sort(data['FORCE_2020_LITHOFACIES_LITHOLOGY'].unique())\n",
    "for index, name in enumerate(col):\n",
    "    lithology_keys[name] = litho[index]\n",
    "lithology_keys = {30000: 'Sandstone',\n",
    "                 65030: 'Sandstone/Shale',\n",
    "                 65000: 'Shale',\n",
    "                 80000: 'Marl',\n",
    "                 74000: 'Dolomite',\n",
    "                 70000: 'Limestone',\n",
    "                 70032: 'Chalk',\n",
    "                 88000: 'Halite',\n",
    "                 86000: 'Anhydrite',\n",
    "                 99000: 'Tuff',\n",
    "                 90000: 'Coal',\n",
    "                 93000: 'Basement'}\n",
    "lithology_keys"
   ]
  },
  {
   "cell_type": "markdown",
   "metadata": {},
   "source": [
    "Lithologies are not equally likely. This is reflected in this dataset."
   ]
  },
  {
   "cell_type": "code",
   "execution_count": null,
   "metadata": {},
   "outputs": [],
   "source": [
    "data['FORCE_2020_LITHOFACIES_LITHOLOGY'].value_counts()"
   ]
  },
  {
   "cell_type": "code",
   "execution_count": null,
   "metadata": {},
   "outputs": [],
   "source": [
    "counts = data['FORCE_2020_LITHOFACIES_LITHOLOGY'].value_counts()\n",
    "names = []\n",
    "percentage = []\n",
    "N = data['FORCE_2020_LITHOFACIES_LITHOLOGY'].shape[0]\n",
    "for item in counts.iteritems():\n",
    "    names.append(lithology_keys[item[0]])\n",
    "    percentage.append(float(item[1])/N*100)\n",
    "fig, ax = plt.subplots(1, 1, figsize=(14, 7))\n",
    "ax.bar(x=np.arange(len(names)), height=percentage)\n",
    "ax.set_xticklabels(names, rotation=45)\n",
    "ax.set_xticks(np.arange(len(names)))\n",
    "ax.set_ylabel('Lithology presence (\\%)')"
   ]
  },
  {
   "cell_type": "markdown",
   "metadata": {},
   "source": [
    "### Missing logs"
   ]
  },
  {
   "cell_type": "markdown",
   "metadata": {},
   "source": [
    "**Notice that some of the curves are NaN. This is an imporant aspect of this dataset and of this competition.** The only log columns that are **guaranteed** to be present are WELL, DEPT, and GR. All other logs can (and will) be missing from some parts of the dataset."
   ]
  },
  {
   "cell_type": "code",
   "execution_count": null,
   "metadata": {},
   "outputs": [],
   "source": [
    "dftype = pd.DataFrame(data.dtypes, columns=['pd_type'])\n",
    "dftype['n_unique'] = data.nunique()\n",
    "dftype['nan_bool'] = data.isna().any()\n",
    "dftype['n_nan'] = data.isna().sum()\n",
    "dftype"
   ]
  },
  {
   "cell_type": "markdown",
   "metadata": {},
   "source": [
    "The following plot shows how large a percentage of training data wells contain at least some depth interval with the given logs. As you can see a couple of logs like RT and DTS are present in less than half of the training wells. **Remember, the test data will have a similar distribution of available logs**"
   ]
  },
  {
   "cell_type": "code",
   "execution_count": null,
   "metadata": {},
   "outputs": [],
   "source": [
    "occurences = np.zeros(25)\n",
    "for well in wells:\n",
    "    occurences += data[data['WELL'] == well].isna().all().astype(int).values[2:-2]\n",
    "fig, ax = plt.subplots(1, 1, figsize=(14, 7))\n",
    "ax.bar(x=np.arange(occurences.shape[0]), height=(data.WELL.unique().shape[0]-occurences)/data.WELL.unique().shape[0]*100.0)\n",
    "ax.set_xticklabels(data.columns[2:-2], rotation=45)\n",
    "ax.set_xticks(np.arange(occurences.shape[0]))\n",
    "ax.set_ylabel('Well presence (\\%)')"
   ]
  },
  {
   "cell_type": "markdown",
   "metadata": {},
   "source": [
    "#### Look at some log curves for a couple of wells"
   ]
  },
  {
   "cell_type": "code",
   "execution_count": null,
   "metadata": {
    "scrolled": false
   },
   "outputs": [],
   "source": [
    "well_data = data[data['WELL'] == wells[0]]\n",
    "fig, axs = plt.subplots(1, len(well_data.columns)-9, figsize=(14, 10), sharey=True)\n",
    "for ic, col in enumerate(set(well_data.columns)-set(['DEPTH_MD', 'FORCE_2020_LITHOFACIES_LITHOLOGY',\n",
    "                                                     'FORCE_2020_LITHOFACIES_CONFIDENCE', 'WELL', 'GROUP', 'FORMATION',\n",
    "                                                    'X_LOC', 'Y_LOC', 'Z_LOC'])):\n",
    "    axs[ic].plot(well_data[col], well_data['DEPTH_MD'])\n",
    "    axs[ic].set_xlabel(col)\n",
    "axs[0].set_ylim(well_data['DEPTH_MD'].values[-1], well_data['DEPTH_MD'].values[0])"
   ]
  },
  {
   "cell_type": "code",
   "execution_count": null,
   "metadata": {},
   "outputs": [],
   "source": [
    "well_data = data[data['WELL'] == wells[57]]\n",
    "fig, axs = plt.subplots(1, len(well_data.columns)-9, figsize=(14, 10), sharey=True)\n",
    "for ic, col in enumerate(set(well_data.columns)-set(['DEPTH_MD', 'FORCE_2020_LITHOFACIES_LITHOLOGY',\n",
    "                                                     'FORCE_2020_LITHOFACIES_CONFIDENCE', 'WELL', 'GROUP', 'FORMATION',\n",
    "                                                    'X_LOC', 'Y_LOC', 'Z_LOC'])):\n",
    "    axs[ic].plot(well_data[col], well_data['DEPTH_MD'])\n",
    "    axs[ic].set_xlabel(col)\n",
    "axs[0].set_ylim(well_data['DEPTH_MD'].values[-1], well_data['DEPTH_MD'].values[0])"
   ]
  },
  {
   "cell_type": "markdown",
   "metadata": {},
   "source": [
    "### Preparing data for training"
   ]
  },
  {
   "cell_type": "code",
   "execution_count": 7,
   "metadata": {},
   "outputs": [],
   "source": [
    "X_all = data.drop(columns=['WELL', 'X_LOC', 'Y_LOC', 'Z_LOC', 'FORCE_2020_LITHOFACIES_LITHOLOGY', \n",
    "                           'FORCE_2020_LITHOFACIES_CONFIDENCE'])"
   ]
  },
  {
   "cell_type": "code",
   "execution_count": null,
   "metadata": {},
   "outputs": [],
   "source": [
    "# Visualize missing values as a matrix\n",
    "import missingno as msno\n",
    "msno.matrix(X_all, color=(0., 0., 0.45))   \n",
    "fig = plt.gcf()\n",
    "fig.set_size_inches(20, 25)"
   ]
  },
  {
   "cell_type": "markdown",
   "metadata": {},
   "source": [
    "#### To explore in more depth the data completion, below I am also adding below missingno 's dendrogram plot.\n",
    "\n",
    "As explained in the library's documentation, The dendrogram uses a hierarchical clustering algorithm (courtesy of scipy) to bin variables against one another by their nullity correlation (measured in terms of binary distance). At each step of the tree the variables are split up based on which combination minimizes the distance of the remaining clusters. The more monotone the set of variables, the closer their total distance is to zero, and the closer their average distance (the y-axis) is to zero.\n",
    "\n",
    "Interpreting the dendrogram in a top-down fashion, as suggested in the library documentation, my first thoguths are that this may suggest trying to predict missing values in a sequential fashion rather than for all logs at once. For example, looking at the largest cluster on the left, and starting from top right, I am thinking of testing use of GR to first predict missing values in RDEP, then both to predict missing values in RMED, then DTC. Then add CALI and use all logs completed so far to predict RHOB, and so on"
   ]
  },
  {
   "cell_type": "code",
   "execution_count": null,
   "metadata": {},
   "outputs": [],
   "source": [
    "msno.dendrogram(X_all.drop(columns=['DEPTH_MD', 'GROUP', 'FORMATION']))"
   ]
  },
  {
   "cell_type": "code",
   "execution_count": 8,
   "metadata": {},
   "outputs": [
    {
     "data": {
      "text/plain": [
       "Index(['DEPTH_MD', 'GROUP', 'FORMATION', 'CALI', 'RSHA', 'RMED', 'RDEP',\n",
       "       'RHOB', 'GR', 'SGR', 'NPHI', 'PEF', 'DTC', 'SP', 'BS', 'ROP', 'DTS',\n",
       "       'DCAL', 'DRHO', 'MUDWEIGHT', 'RMIC', 'ROPA', 'RXO'],\n",
       "      dtype='object')"
      ]
     },
     "execution_count": 8,
     "metadata": {},
     "output_type": "execute_result"
    }
   ],
   "source": [
    "X_all.columns"
   ]
  },
  {
   "cell_type": "code",
   "execution_count": 10,
   "metadata": {},
   "outputs": [],
   "source": [
    "# Some parameters\n",
    "feature_names = ['CALI', 'GR', 'RSHA', 'RMED', 'RDEP', 'RHOB', 'NPHI', 'PEF', 'DTC', 'SP', 'BS']#, 'ROP'\n",
    "facies_names = lithology_keys.values()\n",
    "facies_colors = ['darkorange', '#228B22', 'grey', 'cyan', 'gold', 'lightseagreen', \n",
    "                 'lawngreen', 'lightblue', 'tan', '#FF4500', '#000000', 'magenta']\n",
    "#\n",
    "#facies_color_map is a dictionary that maps facies labels to their respective colors\n",
    "facies_color_map = {}\n",
    "for ind, label in enumerate(facies_names):\n",
    "    facies_color_map[label] = facies_colors[ind]"
   ]
  },
  {
   "cell_type": "code",
   "execution_count": 42,
   "metadata": {},
   "outputs": [
    {
     "data": {
      "text/html": [
       "<div>\n",
       "<style scoped>\n",
       "    .dataframe tbody tr th:only-of-type {\n",
       "        vertical-align: middle;\n",
       "    }\n",
       "\n",
       "    .dataframe tbody tr th {\n",
       "        vertical-align: top;\n",
       "    }\n",
       "\n",
       "    .dataframe thead th {\n",
       "        text-align: right;\n",
       "    }\n",
       "</style>\n",
       "<table border=\"1\" class=\"dataframe\">\n",
       "  <thead>\n",
       "    <tr style=\"text-align: right;\">\n",
       "      <th></th>\n",
       "      <th>CALI</th>\n",
       "      <th>GR</th>\n",
       "      <th>RSHA</th>\n",
       "      <th>RMED</th>\n",
       "      <th>RDEP</th>\n",
       "      <th>RHOB</th>\n",
       "      <th>NPHI</th>\n",
       "      <th>PEF</th>\n",
       "      <th>DTC</th>\n",
       "      <th>SP</th>\n",
       "      <th>BS</th>\n",
       "    </tr>\n",
       "  </thead>\n",
       "  <tbody>\n",
       "    <tr>\n",
       "      <th>count</th>\n",
       "      <td>1082634.00</td>\n",
       "      <td>1164084.00</td>\n",
       "      <td>630650.00</td>\n",
       "      <td>1131511.00</td>\n",
       "      <td>1159496.00</td>\n",
       "      <td>1009242.00</td>\n",
       "      <td>765409.00</td>\n",
       "      <td>671692.00</td>\n",
       "      <td>1089648.00</td>\n",
       "      <td>864247.00</td>\n",
       "      <td>682657.00</td>\n",
       "    </tr>\n",
       "    <tr>\n",
       "      <th>mean</th>\n",
       "      <td>13.19</td>\n",
       "      <td>69.94</td>\n",
       "      <td>10.69</td>\n",
       "      <td>4.99</td>\n",
       "      <td>10.69</td>\n",
       "      <td>2.28</td>\n",
       "      <td>0.33</td>\n",
       "      <td>6.32</td>\n",
       "      <td>113.36</td>\n",
       "      <td>60.03</td>\n",
       "      <td>11.93</td>\n",
       "    </tr>\n",
       "    <tr>\n",
       "      <th>std</th>\n",
       "      <td>3.80</td>\n",
       "      <td>31.32</td>\n",
       "      <td>100.64</td>\n",
       "      <td>54.67</td>\n",
       "      <td>113.95</td>\n",
       "      <td>0.25</td>\n",
       "      <td>0.13</td>\n",
       "      <td>10.96</td>\n",
       "      <td>29.99</td>\n",
       "      <td>76.57</td>\n",
       "      <td>3.33</td>\n",
       "    </tr>\n",
       "    <tr>\n",
       "      <th>min</th>\n",
       "      <td>2.34</td>\n",
       "      <td>0.11</td>\n",
       "      <td>0.00</td>\n",
       "      <td>0.04</td>\n",
       "      <td>0.03</td>\n",
       "      <td>0.72</td>\n",
       "      <td>-0.04</td>\n",
       "      <td>0.10</td>\n",
       "      <td>7.42</td>\n",
       "      <td>-999.00</td>\n",
       "      <td>6.00</td>\n",
       "    </tr>\n",
       "    <tr>\n",
       "      <th>25%</th>\n",
       "      <td>9.43</td>\n",
       "      <td>47.51</td>\n",
       "      <td>0.85</td>\n",
       "      <td>0.91</td>\n",
       "      <td>0.91</td>\n",
       "      <td>2.09</td>\n",
       "      <td>0.24</td>\n",
       "      <td>3.41</td>\n",
       "      <td>87.83</td>\n",
       "      <td>32.40</td>\n",
       "      <td>8.50</td>\n",
       "    </tr>\n",
       "    <tr>\n",
       "      <th>50%</th>\n",
       "      <td>12.56</td>\n",
       "      <td>68.13</td>\n",
       "      <td>1.40</td>\n",
       "      <td>1.44</td>\n",
       "      <td>1.44</td>\n",
       "      <td>2.32</td>\n",
       "      <td>0.33</td>\n",
       "      <td>4.31</td>\n",
       "      <td>109.59</td>\n",
       "      <td>55.39</td>\n",
       "      <td>12.25</td>\n",
       "    </tr>\n",
       "    <tr>\n",
       "      <th>75%</th>\n",
       "      <td>16.71</td>\n",
       "      <td>88.64</td>\n",
       "      <td>3.10</td>\n",
       "      <td>2.68</td>\n",
       "      <td>2.56</td>\n",
       "      <td>2.49</td>\n",
       "      <td>0.42</td>\n",
       "      <td>5.97</td>\n",
       "      <td>140.77</td>\n",
       "      <td>83.39</td>\n",
       "      <td>12.25</td>\n",
       "    </tr>\n",
       "    <tr>\n",
       "      <th>max</th>\n",
       "      <td>28.28</td>\n",
       "      <td>200.00</td>\n",
       "      <td>2193.90</td>\n",
       "      <td>1988.62</td>\n",
       "      <td>1999.89</td>\n",
       "      <td>3.46</td>\n",
       "      <td>1.00</td>\n",
       "      <td>383.13</td>\n",
       "      <td>320.48</td>\n",
       "      <td>526.55</td>\n",
       "      <td>26.00</td>\n",
       "    </tr>\n",
       "  </tbody>\n",
       "</table>\n",
       "</div>"
      ],
      "text/plain": [
       "            CALI         GR      RSHA       RMED       RDEP       RHOB  \\\n",
       "count 1082634.00 1164084.00 630650.00 1131511.00 1159496.00 1009242.00   \n",
       "mean       13.19      69.94     10.69       4.99      10.69       2.28   \n",
       "std         3.80      31.32    100.64      54.67     113.95       0.25   \n",
       "min         2.34       0.11      0.00       0.04       0.03       0.72   \n",
       "25%         9.43      47.51      0.85       0.91       0.91       2.09   \n",
       "50%        12.56      68.13      1.40       1.44       1.44       2.32   \n",
       "75%        16.71      88.64      3.10       2.68       2.56       2.49   \n",
       "max        28.28     200.00   2193.90    1988.62    1999.89       3.46   \n",
       "\n",
       "           NPHI       PEF        DTC        SP        BS  \n",
       "count 765409.00 671692.00 1089648.00 864247.00 682657.00  \n",
       "mean       0.33      6.32     113.36     60.03     11.93  \n",
       "std        0.13     10.96      29.99     76.57      3.33  \n",
       "min       -0.04      0.10       7.42   -999.00      6.00  \n",
       "25%        0.24      3.41      87.83     32.40      8.50  \n",
       "50%        0.33      4.31     109.59     55.39     12.25  \n",
       "75%        0.42      5.97     140.77     83.39     12.25  \n",
       "max        1.00    383.13     320.48    526.55     26.00  "
      ]
     },
     "execution_count": 42,
     "metadata": {},
     "output_type": "execute_result"
    }
   ],
   "source": [
    "X=X_all[feature_names]\n",
    "#take out rows with negative NPHI and RMED values \n",
    "#neg_idx=np.concatenate((well[X.NPHI<0].index, well[X.RMED<0].index), axis=None)\n",
    "#X = X[~X.index.isin(neg_idx)]\n",
    "#convert rows with negative RMED values to np.nan\n",
    "neg_idx=X[X.RMED<0].index\n",
    "X.RMED[X.index.isin(neg_idx)]=np.nan\n",
    "neg_idx=X[X.GR>200].index\n",
    "X.GR[X.index.isin(neg_idx)]=np.nan\n",
    "#convert all restivity logs to logarithmic scale\n",
    "#X['RSHA'] = np.log10(X['RSHA'])\n",
    "#X['RMED'] = np.log10(X['RMED'])\n",
    "#X['RDEP'] = np.log10(X['RDEP'])\n",
    "\n",
    "X.describe()#isna().sum()"
   ]
  },
  {
   "cell_type": "markdown",
   "metadata": {},
   "source": [
    "#### We should convert lithology labels to numbers 0-11 before training"
   ]
  },
  {
   "cell_type": "code",
   "execution_count": 12,
   "metadata": {},
   "outputs": [
    {
     "data": {
      "text/plain": [
       "{30000: 'Sandstone',\n",
       " 65030: 'Sandstone/Shale',\n",
       " 65000: 'Shale',\n",
       " 80000: 'Marl',\n",
       " 74000: 'Dolomite',\n",
       " 70000: 'Limestone',\n",
       " 70032: 'Chalk',\n",
       " 88000: 'Halite',\n",
       " 86000: 'Anhydrite',\n",
       " 99000: 'Tuff',\n",
       " 90000: 'Coal',\n",
       " 93000: 'Basement'}"
      ]
     },
     "metadata": {},
     "output_type": "display_data"
    },
    {
     "data": {
      "text/plain": [
       "array([ 2,  0,  1,  5,  9,  3,  8,  4,  6, 10,  7, 11], dtype=int64)"
      ]
     },
     "execution_count": 12,
     "metadata": {},
     "output_type": "execute_result"
    }
   ],
   "source": [
    "Y = data['FORCE_2020_LITHOFACIES_LITHOLOGY']\n",
    "lithology_numbers = {} # initialize dictionary\n",
    "lithology_numbers = {30000: 0,\n",
    "                     65030: 1,\n",
    "                     65000: 2,\n",
    "                     80000: 3,\n",
    "                     74000: 4,\n",
    "                     70000: 5,\n",
    "                     70032: 6,\n",
    "                     88000: 7,\n",
    "                     86000: 8,\n",
    "                     99000: 9,\n",
    "                     90000: 10,\n",
    "                     93000: 11}\n",
    "display(lithology_keys)\n",
    "Y = Y.map(lithology_numbers)\n",
    "Y.unique()"
   ]
  },
  {
   "cell_type": "code",
   "execution_count": 43,
   "metadata": {},
   "outputs": [],
   "source": [
    "# Store well labels and depths\n",
    "well = data['WELL']\n",
    "depth = data['DEPTH_MD']\n",
    "Strat = data['GROUP']\n",
    "Formation = data['FORMATION']\n",
    "data_weights=data['FORCE_2020_LITHOFACIES_CONFIDENCE']\n",
    "\n",
    "# Sort data according to depth for each well\n",
    "Y_sort = DataFrame([])\n",
    "for w_idx, w in enumerate(np.unique(well)):\n",
    "    X_well = X[well == w]\n",
    "    Y_well = Y[well == w]\n",
    "    X[well == w] = X_well.loc[depth[well == w].sort_values().index.values]\n",
    "    depth[well == w] = np.sort(depth[well == w])\n",
    "    \n",
    "data_weights=data_weights.reindex(X.index)\n",
    "Y=Y.reindex(X.index)\n",
    "Strat=Strat.reindex(X.index)"
   ]
  },
  {
   "cell_type": "code",
   "execution_count": 14,
   "metadata": {},
   "outputs": [],
   "source": [
    "#impute missing lithology confidence\n",
    "rc = RidgeClassifier(tol=1e-2, solver=\"sag\")\n",
    "x = Y[data_weights.notnull()].to_numpy().reshape(-1, 1)\n",
    "y = data_weights[data_weights.notnull()].to_numpy().ravel()\n",
    "rc.fit(x,y)\n",
    "data_weights[data_weights.isnull()]=rc.predict(Y[data_weights.isnull()].to_numpy().reshape(-1, 1))\n",
    "#data_weights = 3/data_weights"
   ]
  },
  {
   "cell_type": "code",
   "execution_count": 15,
   "metadata": {},
   "outputs": [
    {
     "data": {
      "text/plain": [
       "array(['BAAT GP.', 'BOKNFJORD GP.', 'CROMER KNOLL GP.', 'DUNLIN GP.',\n",
       "       'HEGRE GP.', 'HORDALAND GP.', 'NORDLAND GP.', 'ROGALAND GP.',\n",
       "       'ROTLIEGENDES GP.', 'SHETLAND GP.', 'TYNE GP.', 'VESTLAND GP.',\n",
       "       'VIKING GP.', 'ZECHSTEIN GP.'], dtype=object)"
      ]
     },
     "execution_count": 15,
     "metadata": {},
     "output_type": "execute_result"
    }
   ],
   "source": [
    "#impute missing stratigraph\n",
    "from sklearn.preprocessing import LabelEncoder\n",
    "labeler = LabelEncoder()\n",
    "\n",
    "Strata = Series(labeler.fit_transform(Strat.astype(str)), index=Strat.index)\n",
    "Strata=Strata.where(Strat.notnull(), Strat, axis=0)\n",
    "x = Y[Strata.notnull()].to_numpy().reshape(-1, 1)\n",
    "y = Strata[Strata.notnull()].to_numpy().ravel().astype('int')\n",
    "rc.fit(x,y)\n",
    "Strata[Strata.isnull()]=rc.predict(Y[Strata.isnull()].to_numpy().reshape(-1, 1))\n",
    "Strata=Series(Strata, index=Strat.index).astype(int)\n",
    "Strat=Series(labeler.inverse_transform(Strata.values.ravel()), index=Strat.index)\n",
    "np.unique(Strat)"
   ]
  },
  {
   "cell_type": "markdown",
   "metadata": {},
   "source": [
    "##### As an approach, we replace nan values by modeling each feature with missing values as a function of other features in a round-robin fashion"
   ]
  },
  {
   "cell_type": "code",
   "execution_count": 16,
   "metadata": {},
   "outputs": [],
   "source": [
    "from scipy.ndimage import median_filter\n",
    "from scipy.signal import medfilt\n",
    "\n",
    "#%% Remove noise from the data\n",
    "def apply_filter(df):\n",
    "    df = df.apply(lambda x: median_filter(x,size=30,mode='nearest'))\n",
    "    return df\n",
    "\n",
    "def apply_filternp(df):\n",
    "    for i in range(df.shape[1]):\n",
    "        df[i]=median_filter(df[i],size=5,mode='nearest')\n",
    "    return df\n",
    "\n",
    "def apply_filter_imp(df):\n",
    "    df = df.apply(lambda x: median_filter(x,size=50,mode='nearest'))\n",
    "    return df"
   ]
  },
  {
   "cell_type": "code",
   "execution_count": 17,
   "metadata": {},
   "outputs": [],
   "source": [
    "from sklearn.experimental import enable_iterative_imputer\n",
    "from sklearn.impute import KNNImputer, IterativeImputer\n",
    "from sklearn.ensemble import ExtraTreesRegressor"
   ]
  },
  {
   "cell_type": "code",
   "execution_count": 44,
   "metadata": {},
   "outputs": [
    {
     "data": {
      "text/plain": [
       "CALI    0\n",
       "GR      0\n",
       "RSHA    0\n",
       "RMED    0\n",
       "RDEP    0\n",
       "RHOB    0\n",
       "NPHI    0\n",
       "PEF     0\n",
       "DTC     0\n",
       "SP      0\n",
       "BS      0\n",
       "dtype: int64"
      ]
     },
     "execution_count": 44,
     "metadata": {},
     "output_type": "execute_result"
    }
   ],
   "source": [
    "X_imp=X.fillna(method='ffill').fillna(method='bfill')\n",
    "X_imp.isna().sum()#[well == w]"
   ]
  },
  {
   "cell_type": "code",
   "execution_count": null,
   "metadata": {},
   "outputs": [],
   "source": [
    "imp = IterativeImputer(random_state=seed_value, missing_values=np.nan, sample_posterior=True)\n",
    "X_dend = DataFrame(imp.fit_transform(apply_filter(X)), index=X.index, columns=X.columns)\n",
    "X_imp_ = apply_filter(DataFrame(imp.fit_transform(X), index=X.index, columns=X.columns))\n",
    "X_imp=X.where(X.notnull(), X_imp_, axis=0)"
   ]
  },
  {
   "cell_type": "code",
   "execution_count": null,
   "metadata": {},
   "outputs": [],
   "source": [
    "X_imp['CALIBS']=X_imp['CALI']-X_imp['BS']\n",
    "X_imp.describe()"
   ]
  },
  {
   "cell_type": "code",
   "execution_count": null,
   "metadata": {},
   "outputs": [],
   "source": [
    "krr = KernelRidge(kernel='laplacian')\n",
    "X_krrimp = X\n",
    "print('=========RDEP================')\n",
    "print('.' * len(np.unique(well[X_krrimp.RDEP.isnull()])))\n",
    "for w_idx, w in enumerate(np.unique(well[X_krrimp.RDEP.isnull()])):\n",
    "    df = X_krrimp[well == w].copy()\n",
    "    df_NotNaN = df[df.RDEP.notnull()]\n",
    "    if df.RDEP.isna().sum().max()<df.shape[0]:\n",
    "        x = apply_filter(df_NotNaN['GR']).to_numpy().reshape(-1, 1)\n",
    "        y = df_NotNaN['RDEP'].to_numpy().reshape(-1, 1)\n",
    "        krr.fit(x, y)\n",
    "        xpred = df.loc[df['RDEP'].isnull(), :]['GR']\n",
    "        xpred = apply_filter(xpred).to_numpy().reshape(-1, 1)\n",
    "        df.RDEP[df['RDEP'].isnull()] = krr.predict(xpred).flatten()\n",
    "        X_krrimp['RDEP'][well == w]=apply_filter(df['RDEP'])\n",
    "    print('!', end='')\n",
    "      \n",
    "print('\\n=========RMED================')\n",
    "print('.' * len(np.unique(well[X_krrimp.RMED.isnull()])))\n",
    "for w_idx, w in enumerate(np.unique(well[X_krrimp.RMED.isnull()])):\n",
    "    df = X_krrimp[well == w].copy()\n",
    "    df_NotNa = df[df.RMED.notnull()]\n",
    "    if df.RMED.isna().sum().max()<df.shape[0]:\n",
    "        x = apply_filter(df_NotNa[['GR', 'RDEP']]).to_numpy()\n",
    "        y = df_NotNa['RMED'].to_numpy().reshape(-1, 1)\n",
    "        krr.fit(x, y)\n",
    "        xpred = df.loc[df['RMED'].isnull(), :][['GR', 'RDEP']]\n",
    "        xpred = apply_filter(xpred).to_numpy()\n",
    "        df.RMED[df['RMED'].isnull()] = krr.predict(xpred).flatten()\n",
    "        X_krrimp['RMED'][well == w]=apply_filter(df['RMED'])\n",
    "    print('!', end='')\n",
    "\n",
    "print('\\n=========DTC================')\n",
    "print('.' * len(np.unique(well[X_krrimp.DTC.isnull()])))\n",
    "for w_idx, w in enumerate(np.unique(well[X_krrimp.DTC.isnull()])):\n",
    "    df = X_krrimp[well == w].copy()\n",
    "    df_NotNa = df[df.DTC.notnull()]\n",
    "    if df.DTC.isna().sum().max()<df.shape[0]:\n",
    "        x = apply_filter(df_NotNa[['GR', 'RDEP', 'RMED']]).to_numpy()\n",
    "        y = df_NotNa['DTC'].to_numpy().reshape(-1, 1)\n",
    "        krr.fit(x, y)\n",
    "        xpred = df.loc[df['DTC'].isnull(), :][['GR', 'RDEP', 'RMED']]\n",
    "        xpred = apply_filter(xpred).to_numpy()\n",
    "        df.DTC[df['DTC'].isnull()] = krr.predict(xpred).flatten()\n",
    "        X_krrimp['DTC'][well == w]=apply_filter(df['DTC'])\n",
    "    print('!', end='')"
   ]
  },
  {
   "cell_type": "code",
   "execution_count": null,
   "metadata": {},
   "outputs": [],
   "source": [
    "len(np.unique(well[X_krrimp.DTC.isnull()]))"
   ]
  },
  {
   "cell_type": "code",
   "execution_count": null,
   "metadata": {},
   "outputs": [],
   "source": [
    "dframe = well[X.CALI.isnull()].value_counts().reset_index().rename(columns = {'index':'wells_nan', 'WELL':'nan_counts'})\n",
    "dframe2 = well[well.isin(np.unique(well[X.CALI.isnull()]))].value_counts().reset_index().rename(\n",
    "    columns = {'index':'wells_nan', 'WELL':'total_counts'})\n",
    "dframe = pd.merge(dframe, dframe2, how='left', on=['wells_nan'])\n",
    "dframe['cond']=dframe['nan_counts']<dframe['total_counts']\n",
    "dframe#[dframe['cond']==False]"
   ]
  },
  {
   "cell_type": "code",
   "execution_count": null,
   "metadata": {},
   "outputs": [],
   "source": [
    "w='31/5-4 S'\n",
    "display(X[well == w].isna().sum())#.max()<\n",
    "X[well == w].shape[0]"
   ]
  },
  {
   "cell_type": "code",
   "execution_count": null,
   "metadata": {},
   "outputs": [],
   "source": [
    "display(np.unique(well[Strat.isnull()]))\n",
    "display([i for i,v in enumerate(wells) if v in np.unique(well[Strat.isnull()])])\n",
    "\n",
    "dframe = DataFrame(np.unique(well[Strat.isnull()]), columns=['wells_nan'])\n",
    "dframe2 = well[well.isin(np.unique(well[Strat.isnull()]))].value_counts().reset_index().rename(\n",
    "    columns = {'index':'wells_nan', 'WELL':'total_counts'})\n",
    "dframe = pd.merge(dframe, dframe2, how='left', on=['wells_nan'])\n",
    "dframe3 = well[Strat.isnull()].value_counts().reset_index().rename(\n",
    "    columns = {'index':'wells_nan', 'WELL':'nan_counts'})\n",
    "dframe = pd.merge(dframe, dframe3, how='left', on=['wells_nan'])\n",
    "display(dframe)"
   ]
  },
  {
   "cell_type": "code",
   "execution_count": null,
   "metadata": {},
   "outputs": [],
   "source": [
    "from sklearn.preprocessing import LabelEncoder\n",
    "knnimp = KNNImputer(n_neighbors=5, weights=\"distance\", missing_values=np.nan)\n",
    "labeler = LabelEncoder()\n",
    "Strata = DataFrame(labeler.fit_transform(Strat.astype(str)), index=Strat.index)\n",
    "Strata=Strata.where(Strat.notnull(), Strat, axis=0)\n",
    "Strata=DataFrame(knnimp.fit_transform(Strata), index=Strat.index).astype(int)#.round()\n",
    "Strata=Series(labeler.inverse_transform(Strata.values.ravel()), index=Strat.index)\n",
    "np.unique(Strata)#.isnull().sum()"
   ]
  },
  {
   "cell_type": "code",
   "execution_count": null,
   "metadata": {},
   "outputs": [],
   "source": [
    "knn_imp = KNNImputer(n_neighbors=10, weights=\"distance\", missing_values=np.nan)#, add_indicator=True\n",
    "X_knnimp = X\n",
    "for w_idx, w in enumerate(np.unique(Strata)):\n",
    "    X_Strata = X[Strata == w]\n",
    "    X_knnimp[Strata == w] = knn_imp.fit_transform(apply_filter(X_Strata))"
   ]
  },
  {
   "cell_type": "code",
   "execution_count": null,
   "metadata": {},
   "outputs": [],
   "source": [
    "X[well == '34/10-33']"
   ]
  },
  {
   "cell_type": "code",
   "execution_count": null,
   "metadata": {},
   "outputs": [],
   "source": [
    "np.unique(well[X['RDEP'].isnull()])\n",
    "[i for i,v in enumerate(wells) if v in np.unique(well[X['RDEP'].isnull()])]\n",
    "#df.RDEP[df.index.isin(idx)]\n",
    "#X_dend[well == w]\n",
    "#wells\n",
    "apply_filter(df_NotNa['GR'])\n",
    "#df_NotNa['GR'].index"
   ]
  },
  {
   "cell_type": "code",
   "execution_count": null,
   "metadata": {},
   "outputs": [],
   "source": [
    "krr = KernelRidge(kernel='laplacian')\n",
    "X_dend = X\n",
    "for w_idx, w in enumerate(np.unique(well[X_dend['RDEP'].isnull()])):\n",
    "    df = X_dend[feature_names][well == w].copy()\n",
    "    df_NotNa = df[df.RDEP.notnull()]\n",
    "    x = apply_filter(df_NotNa['GR']).to_numpy().reshape(-1, 1)\n",
    "    y = df_NotNa['RDEP'].to_numpy().reshape(-1, 1)\n",
    "    krr.fit(x, y)\n",
    "    xpred = df.loc[df['RDEP'].isnull(), :]['GR']\n",
    "    idx = xpred.index\n",
    "    xpred = apply_filter(xpred).to_numpy().reshape(-1, 1)\n",
    "    df.RDEP[df['RDEP'].isnull()] = krr.predict(xpred).flatten()\n",
    "    X_dend['RDEP'][well == w]=df['RDEP']"
   ]
  },
  {
   "cell_type": "code",
   "execution_count": null,
   "metadata": {},
   "outputs": [],
   "source": [
    "df_NotNa[['GR', 'RDEP']].describe()\n",
    "display(np.unique(well[X['RMED'].isnull()]))\n",
    "dframe = DataFrame(np.unique(well[X['RMED'].isnull()]), columns=['wells_nan'])\n",
    "dframe2 = well[well.isin(np.unique(well[X['RMED'].isnull()]))].value_counts().reset_index().rename(\n",
    "    columns = {'index':'wells_nan', 'WELL':'total_counts'})\n",
    "dframe = pd.merge(dframe, dframe2, how='left', on=['wells_nan'])\n",
    "dframe3 = well[X.RMED.isnull()].value_counts().reset_index().rename(\n",
    "    columns = {'index':'wells_nan', 'WELL':'nan_counts'})\n",
    "dframe = pd.merge(dframe, dframe3, how='left', on=['wells_nan'])\n",
    "\n",
    "display(dframe)\n",
    "#display(w)\n",
    "#df\n",
    "well[X.RMED.isnull()].value_counts()"
   ]
  },
  {
   "cell_type": "code",
   "execution_count": null,
   "metadata": {},
   "outputs": [],
   "source": [
    "for w_idx, w in enumerate(np.unique(well[X_dend['RMED'].isnull()])):\n",
    "    df = X_dend[feature_names][well == w].copy()\n",
    "    df_NotNa = df[df.RMED.notnull()]\n",
    "    x = apply_filter(df_NotNa[['GR', 'RDEP']]).to_numpy()\n",
    "    y = df_NotNa['RMED'].to_numpy().reshape(-1, 1)\n",
    "    krr.fit(x, y)\n",
    "    xpred = df.loc[df['RMED'].isnull(), :][['GR', 'RDEP']]\n",
    "    idx = xpred.index\n",
    "    xpred = apply_filter(xpred).to_numpy()\n",
    "    df.RMED[df['RMED'].isnull()] = krr.predict(xpred).flatten()\n",
    "    X_dend['RMED'][well == w]=df['RMED']"
   ]
  },
  {
   "cell_type": "code",
   "execution_count": null,
   "metadata": {},
   "outputs": [],
   "source": [
    "#param_grid = {\"alpha\": [1e0, 1e-1, 1e-2, 1e-3],\n",
    "#                  \"kernel\": ['laplacian'],\n",
    "#                  \"gamma\": np.linspace(0.01,1,10)}\n",
    "#krr = GridSearchCV(KernelRidge(), cv=5, param_grid=param_grid)\n",
    "#etr = ExtraTreesRegressor(max_features=0.64, n_estimators=500, n_jobs=4, random_state=seed_value)\n",
    "\n",
    "#df = X[feature_names].copy()\n",
    "#imp = IterativeImputer(random_state=seed_value)\n",
    "#df[['GR', 'RDEP']] = DataFrame(imp.fit_transform(apply_filter(df[['GR', 'RDEP']])), \n",
    "#                               index=X[['GR', 'RDEP']].index, columns=X[['GR', 'RDEP']].columns)\n",
    "\n",
    "#df_NotNa = df[df.RMED.notnull()]\n",
    "#x = df_NotNa[['GR', 'RDEP']]\n",
    "#y = df_NotNa['RMED']\n",
    "#etr.fit(x, y)\n",
    "#xpred = df.loc[df['RMED'].isnull(),:].drop('RMED',axis=1)\n",
    "#df['RMED'][df['RMED'].isnull()] = etr.predict(xpred)"
   ]
  },
  {
   "cell_type": "code",
   "execution_count": null,
   "metadata": {},
   "outputs": [],
   "source": [
    "len(facies_colors)"
   ]
  },
  {
   "cell_type": "code",
   "execution_count": 24,
   "metadata": {},
   "outputs": [],
   "source": [
    "#Now define a function that creates a plot with log curves, as well as a lithofacies track. \n",
    "#This plot will be flexible, in that we can provide a list of curve mnemonics that \n",
    "#we want to include in the plot.\n",
    "\n",
    "def make_facies_log_plot(logs, curves, well_name, facies_colors):\n",
    "        \n",
    "    #make sure logs are sorted by depth\n",
    "    cmap_facies = colors.ListedColormap(facies_colors, 'indexed')\n",
    "\n",
    "    colours=['k','b','r','g','m','c','lime','gold','sienna']\n",
    "    \n",
    "    ztop=logs.Depth.min(); zbot=logs.Depth.max()\n",
    "    \n",
    "    cluster=np.repeat(logs['litho_real'].values.reshape(-1, 1),50,axis=1)\n",
    "    \n",
    "    num_curves = len(curves)\n",
    "    f, ax = plt.subplots(nrows=1, ncols=num_curves+1, figsize=(num_curves*2, 12))\n",
    "    \n",
    "    for ic, col in enumerate(curves):\n",
    "        \n",
    "        # if the curve doesn't exist, make it zeros\n",
    "        if np.all(np.isnan(logs[col])):\n",
    "            curve = np.empty(logs[col].values.shape)\n",
    "            curve[:] = np.nan\n",
    "            \n",
    "        else:\n",
    "            curve = logs[col]\n",
    "            \n",
    "        ax[ic].plot(curve, logs.Depth,colours[ic])\n",
    "        ax[ic].set_xlabel(col)\n",
    "        ax[ic].set_yticklabels([]);\n",
    "\n",
    "    # make the lithfacies column\n",
    "    im=ax[num_curves].imshow(cluster, interpolation='none', aspect='auto',\n",
    "                    cmap=cmap_facies,vmin=0,vmax=len(facies_colors)-1)\n",
    "    \n",
    "    divider = make_axes_locatable(ax[num_curves])\n",
    "    cax = divider.append_axes(\"right\", size=\"20%\", pad=0.05)\n",
    "    cbar=plt.colorbar(im, cax=cax)\n",
    "    cbar.set_label((13*' ').join(['  SS', 'SS-Sh', 'Sh', \n",
    "                                ' Marl', 'Dol', 'Lims', 'Chlk ', \n",
    "                                '  Hal', 'Anhy', 'Tuf', 'Coal', 'Bsmt']))\n",
    "    cbar.set_ticks(range(0,1)); cbar.set_ticklabels('')\n",
    "    \n",
    "    for i in range(len(ax)-1):\n",
    "        ax[i].set_ylim(ztop,zbot)\n",
    "        ax[i].invert_yaxis()\n",
    "        ax[i].grid()\n",
    "        ax[i].locator_params(axis='x', nbins=3)\n",
    "\n",
    "    ax[num_curves].set_xlabel('Lithology')\n",
    "    ax[num_curves].set_yticklabels([])\n",
    "    ax[num_curves].set_xticklabels([])\n",
    "    \n",
    "    f.suptitle('Well: %s'% well_name, fontsize=14,y=0.94)    \n",
    "    \n",
    "\n",
    "def compare_facies_plot(logs, well_name, facies_name, facies_colors, vmax):\n",
    "    \n",
    "    cmap_facies = colors.ListedColormap(facies_colors, 'indexed')\n",
    "    \n",
    "    ztop=logs.Depth.min(); zbot=logs.Depth.max()\n",
    "    \n",
    "    cluster1 = np.repeat(np.expand_dims(logs['litho_real'].values,1), 100, 1)\n",
    "    cluster2 = np.repeat(np.expand_dims(logs['litho_pred'].values,1), 100, 1)\n",
    "    \n",
    "    f, ax = plt.subplots(nrows=1, ncols=8, figsize=(12, 12))\n",
    "    ax[0].plot(logs.GR, logs.Depth, '-g')\n",
    "    ax[1].plot(logs.RDEP, logs.Depth, '-b')\n",
    "    ax[2].plot(logs.NPHI, logs.Depth, '-', color='0.5')\n",
    "    ax[3].plot(logs.RHOB, logs.Depth, '-', color='r')\n",
    "    ax[4].plot(logs.PEF, logs.Depth, '-', color='black')\n",
    "    ax[5].plot(logs.SP, logs.Depth, '-', color='m')\n",
    "    im1 = ax[6].imshow(cluster1, interpolation='none', aspect='auto',\n",
    "                    cmap=cmap_facies,vmin=0,vmax=vmax)\n",
    "    im2 = ax[7].imshow(cluster2, interpolation='none', aspect='auto',\n",
    "                    cmap=cmap_facies,vmin=0,vmax=vmax)\n",
    "    \n",
    "    divider = make_axes_locatable(ax[7])\n",
    "    cax = divider.append_axes(\"right\", size=\"20%\", pad=0.05)\n",
    "    cbar=plt.colorbar(im2, cax=cax)\n",
    "    cbar.set_label((55*' ').join(facies_name))\n",
    "    cbar.set_ticks(range(0,1)); cbar.set_ticklabels('')\n",
    "    \n",
    "    for i in range(len(ax)-2):\n",
    "        ax[i].set_ylim(ztop,zbot)\n",
    "        ax[i].invert_yaxis()\n",
    "        ax[i].grid()\n",
    "        ax[i].locator_params(axis='x', nbins=3)\n",
    "    \n",
    "    ax[0].set_xlabel(\"GR\")\n",
    "    ax[0].set_xlim(logs.GR.min(),logs.GR.max())\n",
    "    ax[1].set_xlabel(\"RDEP\")\n",
    "    ax[1].set_xlim(logs.RDEP.min(),logs.RDEP.max())\n",
    "    ax[2].set_xlabel(\"NPHI\")\n",
    "    ax[2].set_xlim(logs.NPHI.min(),logs.NPHI.max())\n",
    "    ax[3].set_xlabel(\"RHOB\")\n",
    "    ax[3].set_xlim(logs.RHOB.min(),logs.RHOB.max())\n",
    "    ax[4].set_xlabel(\"PEF\")\n",
    "    ax[4].set_xlim(logs.PEF.min(),logs.PEF.max())\n",
    "    ax[5].set_xlabel(\"SP\")\n",
    "    ax[5].set_xlim(logs.SP.min(),logs.SP.max())\n",
    "    ax[6].set_xlabel('litho_real')\n",
    "    ax[7].set_xlabel('litho_pred')\n",
    "    \n",
    "    ax[1].set_yticklabels([]); ax[2].set_yticklabels([]); ax[3].set_yticklabels([])\n",
    "    ax[4].set_yticklabels([]); ax[5].set_yticklabels([]); ax[6].set_yticklabels([]); ax[7].set_yticklabels([])\n",
    "    ax[6].set_xticklabels([])\n",
    "    ax[7].set_xticklabels([])\n",
    "    f.suptitle('Well: %s' % well_name, fontsize=14,y=0.94)    \n",
    "\n",
    "def display_cm(cm, labels, hide_zeros=False,\n",
    "                             display_metrics=False):\n",
    "    \"\"\"Display confusion matrix with labels, along with\n",
    "       metrics such as Recall, Precision and F1 score.\n",
    "       Based on Zach Guo's print_cm gist at\n",
    "       https://gist.github.com/zachguo/10296432\n",
    "    \"\"\"\n",
    "\n",
    "    precision = np.diagonal(cm)/cm.sum(axis=0).astype('float')\n",
    "    recall = np.diagonal(cm)/cm.sum(axis=1).astype('float')\n",
    "    F1 = 2 * (precision * recall) / (precision + recall)\n",
    "    \n",
    "    precision[np.isnan(precision)] = 0\n",
    "    recall[np.isnan(recall)] = 0\n",
    "    F1[np.isnan(F1)] = 0\n",
    "    \n",
    "    total_precision = np.sum(precision * cm.sum(axis=1)) / cm.sum(axis=(0,1))\n",
    "    total_recall = np.sum(recall * cm.sum(axis=1)) / cm.sum(axis=(0,1))\n",
    "    total_F1 = np.sum(F1 * cm.sum(axis=1)) / cm.sum(axis=(0,1))\n",
    "    #print total_precision\n",
    "    \n",
    "    columnwidth = max([len(x) for x in labels]+[5]) # 5 is value length\n",
    "    empty_cell = \" \" * columnwidth\n",
    "    # Print header\n",
    "    print(\"    \" + \" Pred\", end=' ')\n",
    "    for label in labels: \n",
    "        print(\"%{0}s\".format(columnwidth) % label, end=' ')\n",
    "    print(\"%{0}s\".format(columnwidth) % 'Total')\n",
    "    print(\"    \" + \" True\")\n",
    "    # Print rows\n",
    "    for i, label1 in enumerate(labels):\n",
    "        print(\"    %{0}s\".format(columnwidth) % label1, end=' ')\n",
    "        for j in range(len(labels)): \n",
    "            cell = \"%{0}d\".format(columnwidth) % cm[i, j]\n",
    "            if hide_zeros:\n",
    "                cell = cell if float(cm[i, j]) != 0 else empty_cell\n",
    "            print(cell, end=' ')\n",
    "        print(\"%{0}d\".format(columnwidth) % sum(cm[i,:]))\n",
    "        \n",
    "    if display_metrics:\n",
    "        print()\n",
    "        print(\"Precision\", end=' ')\n",
    "        for j in range(len(labels)):\n",
    "            cell = \"%{0}.2f\".format(columnwidth) % precision[j]\n",
    "            print(cell, end=' ')\n",
    "        print(\"%{0}.2f\".format(columnwidth) % total_precision)\n",
    "        print(\"   Recall\", end=' ')\n",
    "        for j in range(len(labels)):\n",
    "            cell = \"%{0}.2f\".format(columnwidth) % recall[j]\n",
    "            print(cell, end=' ')\n",
    "        print(\"%{0}.2f\".format(columnwidth) % total_recall)\n",
    "        print(\"       F1\", end=' ')\n",
    "        for j in range(len(labels)):\n",
    "            cell = \"%{0}.2f\".format(columnwidth) % F1[j]\n",
    "            print(cell, end=' ')\n",
    "        print(\"%{0}.2f\".format(columnwidth) % total_F1)"
   ]
  },
  {
   "cell_type": "code",
   "execution_count": 46,
   "metadata": {},
   "outputs": [
    {
     "data": {
      "image/png": "[encoded data removed]",
      "text/plain": [
       "<Figure size 1008x864 with 9 Axes>"
      ]
     },
     "metadata": {
      "needs_background": "light"
     },
     "output_type": "display_data"
    }
   ],
   "source": [
    "well_no=27\n",
    "logs = pd.concat([X_imp, \n",
    "                  depth, \n",
    "                  Y], axis=1).rename(columns = {'FORCE_2020_LITHOFACIES_LITHOLOGY':'litho_real', \n",
    "                                                'DEPTH_MD':'Depth'})\n",
    "make_facies_log_plot(logs[well==wells[well_no]], ['GR', 'RHOB', 'NPHI', 'RSHA', \n",
    "                                                  'RDEP', 'PEF', 'SP'], #, 'CALIBS'\n",
    "                     wells[well_no],\n",
    "                     facies_colors)"
   ]
  },
  {
   "cell_type": "code",
   "execution_count": null,
   "metadata": {},
   "outputs": [],
   "source": [
    "Strat = data['GROUP']#.values #['WELL',]\n",
    "\n",
    "from sklearn.preprocessing import LabelEncoder\n",
    "labeler = LabelEncoder()\n",
    "Strata = DataFrame(labeler.fit_transform(Strat.astype(str)), index=Strat.index)\n",
    "Strata=Strata.where(Strat.notnull(), Strat, axis=0)\n",
    "Strata=DataFrame(imp.fit_transform(Strata), index=Strat.index).round().astype(int)\n",
    "Strata=Series(labeler.inverse_transform(Strata.values.ravel()), index=Strat.index)\n",
    "np.unique(Strata)#.isnull().sum()"
   ]
  },
  {
   "cell_type": "code",
   "execution_count": null,
   "metadata": {},
   "outputs": [],
   "source": [
    "display(well[Strata.isnull()].unique())\n",
    "[i for i,v in enumerate(wells) if v in well[Strata.isnull()].unique()]"
   ]
  },
  {
   "cell_type": "code",
   "execution_count": null,
   "metadata": {},
   "outputs": [],
   "source": [
    "well_no=23\n",
    "well_data = X[well == wells[well_no]]\n",
    "well_data_imp = X_imp[well == wells[well_no]]\n",
    "well_data_dendimp = X_dend[well == wells[well_no]]\n",
    "well_depth = depth[well == wells[well_no]]\n",
    "well_facies = Y[well == wells[well_no]]\n",
    "well_strat = Strat[well == wells[well_no]].factorize()[0].reshape(-1,1)\n",
    "well_formation = Formation[well == wells[well_no]].factorize()[0].reshape(-1,1)\n",
    "\n",
    "cmap_facies = ListedColormap(facies_colors, 'indexed')\n",
    "cluster=np.repeat(well_facies.values.reshape(-1, 1),50,axis=1)\n",
    "num_curves = len(well_data.columns)\n",
    "fig, axs = plt.subplots(1, num_curves+1, figsize=(15, 11), sharey=True)\n",
    "for ic, col in enumerate(well_data.columns):\n",
    "    axs[ic].plot(well_data_dendimp[col], well_depth, 'green')#, '.'\n",
    "    axs[ic].plot(well_data_imp[col], well_depth, 'red')#, '.'\n",
    "    axs[ic].plot(well_data[col], well_depth, 'orange')\n",
    "    axs[ic].set_xlabel(col)\n",
    "    axs[ic].grid()\n",
    "\n",
    "ic=num_curves    \n",
    "im=axs[ic].imshow(cluster, interpolation='none', aspect='auto', \n",
    "                  cmap=cmap_facies,vmin=0,vmax=len(Y.unique()))    \n",
    "divider = make_axes_locatable(axs[ic])\n",
    "cax = divider.append_axes(\"right\", size=\"20%\", pad='7%')\n",
    "cbar=plt.colorbar(im, cax=cax)\n",
    "#for index, label in enumerate(list(facies_names)):\n",
    "#        cbar.ax.text(2, index+.5, '  ' + label, ha='left', va='center', rotation=270)\n",
    "cbar.set_label((11*' ').join(['  SS', 'SS-Sh', 'Sh', \n",
    "                              ' Marl', 'Dol', 'Lims', 'Chlk ', \n",
    "                              '  Hal', 'Anhy', 'Turf', 'Coal', 'Bsmt']))\n",
    "cbar.set_ticks(list())\n",
    "cbar.set_ticklabels('')\n",
    "axs[ic].set_xlabel('LithoFacies')\n",
    "axs[ic].set_xticklabels([])\n",
    "\n",
    "axs[0].set_ylim(well_depth.values[-1], well_depth.values[0])\n",
    "fig.suptitle('Well: %s'% wells[well_no], fontsize=14,y=0.94)"
   ]
  },
  {
   "cell_type": "code",
   "execution_count": null,
   "metadata": {},
   "outputs": [],
   "source": [
    "df_labels=Y\n",
    "df_features = X_imp\n",
    "\n",
    "from sklearn.ensemble import RandomForestClassifier\n",
    "mod = RandomForestClassifier(n_estimators=50)\n",
    "mod.fit(df_features, df_labels)\n",
    "featimportance=mod.feature_importances_\n",
    "# summarize feature importance\n",
    "feature_importance = DataFrame(featimportance, index=df_features.columns, \n",
    "                               columns=['feature importance']).sort_values('feature importance', ascending=True)\n",
    "# plot feature importance\n",
    "feature_importance.plot(kind='barh', title='Plots Comparison for Feature Importance')"
   ]
  },
  {
   "cell_type": "code",
   "execution_count": 30,
   "metadata": {},
   "outputs": [],
   "source": [
    "# Feature augmentation function\n",
    "def augment_features(X, well, depth):\n",
    "    \n",
    "    # Augment features\n",
    "    padded_rows = []\n",
    "    X_aug = np.zeros((X.shape[0], X.shape[1]*2))\n",
    "    for w in np.unique(well):\n",
    "        w_idx = np.where(well == w)[0]  #index\n",
    "        \n",
    "        # Compute features gradient function\n",
    "        d_diff = np.diff(depth[w_idx]).reshape((-1, 1)) #check difference in depth\n",
    "        d_diff[d_diff==0] = 0.01                        #if difference in depth is zero, make it 0.01\n",
    "        X_diff = np.diff(X.loc[w_idx, :], axis=0)           #check difference in features\n",
    "        X_grad = X_diff / d_diff                        #calculate gradient by dividing features by depth \n",
    "        \n",
    "        # Compensate for last rows - padding\n",
    "        X_grad = np.concatenate((X_grad, np.zeros((1, X_grad.shape[1]))))\n",
    "    \n",
    "        X_aug[w_idx, :] = np.concatenate((X.loc[w_idx, :], X_grad), axis=1)\n",
    "        \n",
    "        # Find padded rows\n",
    "        padded_rows.append(w_idx[-1])\n",
    "            \n",
    "    return X_aug, padded_rows"
   ]
  },
  {
   "cell_type": "code",
   "execution_count": 47,
   "metadata": {},
   "outputs": [
    {
     "data": {
      "text/plain": [
       "(1170511, 16)"
      ]
     },
     "execution_count": 47,
     "metadata": {},
     "output_type": "execute_result"
    }
   ],
   "source": [
    "# Augment features\n",
    "to_drop=['BS', 'DTC', 'RMED']#, 'CALI', 'CALIBS'\n",
    "X_imp1=X_imp.drop(to_drop, axis=1)\n",
    "X_aug, padded_rows = augment_features(X_imp1, well, depth)\n",
    "col=list(X_imp1.columns.values)\n",
    "col= col + ['Delta' + sub for sub in col]\n",
    "X_aug = DataFrame(X_aug, index=X_imp.index, columns=col)\n",
    "len(padded_rows)\n",
    "X_aug.shape"
   ]
  },
  {
   "cell_type": "code",
   "execution_count": null,
   "metadata": {},
   "outputs": [],
   "source": [
    "from sklearn.preprocessing import PolynomialFeatures\n",
    "# Add higher degree terms and interaction terms to the model\n",
    "deg = 2\n",
    "poly = PolynomialFeatures(deg, interaction_only=False)\n",
    "X_aug2 = poly.fit_transform(X_aug)\n",
    "X_aug2 = X_aug2[:,1:]\n",
    "X_aug2.shape"
   ]
  },
  {
   "cell_type": "markdown",
   "metadata": {},
   "source": [
    "### Applying the custom scoring function"
   ]
  },
  {
   "cell_type": "markdown",
   "metadata": {},
   "source": [
    "Apart from the missing log curves, **one of the key challenges of this machine learning competition is that you are being scored using a custom scoring function**. \n",
    "\n",
    "A prediction is scored using the penalty function\n",
    "$$ S = - \\frac{1}{N}\\sum_{i=0}^N A_{ \\hat{y}_i y_i} $$\n",
    "where $N$ is the number of samples, $y_i$ is prediction for sample $i$, $\\hat{y}_i$ is the true target for sample $i$, and $A$ is the penalty matrix given by the following\n",
    "\n",
    "In short, the value of the matrix A at row i and column j is the **penalty** given by guessing lithology number i when the correct label is lithology numner j. Notice that the diagonal consists of zeros, no penalty is given for correct predictions."
   ]
  },
  {
   "cell_type": "code",
   "execution_count": 32,
   "metadata": {},
   "outputs": [],
   "source": [
    "A = np.load('D:/.jupyter/Machine_Predicted_Lithology/penalty_matrix.npy')"
   ]
  },
  {
   "cell_type": "markdown",
   "metadata": {},
   "source": [
    "The scoring function can be implemented as follows. If used as a loss function in a neural network framwork, it is recommended to implement a more efficient function based on tensor products. "
   ]
  },
  {
   "cell_type": "code",
   "execution_count": 33,
   "metadata": {},
   "outputs": [],
   "source": [
    "def score(y_true, y_pred):\n",
    "    S = 0.0\n",
    "    y_true = y_true.astype(int)\n",
    "    y_pred = y_pred.astype(int)\n",
    "    for i in range(0, y_true.shape[0]):\n",
    "        S -= A[y_true[i], y_pred[i]]\n",
    "    return S/y_true.shape[0]"
   ]
  },
  {
   "cell_type": "markdown",
   "metadata": {},
   "source": [
    "**IMPORTANT: The implementation above assumes zero-indexed y_true and y_pred. Be careful not to mix zero-indexed and 1-indexed class labels.**"
   ]
  },
  {
   "cell_type": "markdown",
   "metadata": {},
   "source": [
    "#### Select only the columns you want to use"
   ]
  },
  {
   "cell_type": "code",
   "execution_count": 48,
   "metadata": {},
   "outputs": [
    {
     "name": "stderr",
     "output_type": "stream",
     "text": [
      "D:\\ProgramData\\Anaconda3\\lib\\site-packages\\ipykernel_launcher.py:4: UserWarning: Boolean Series key will be reindexed to match DataFrame index.\n",
      "  after removing the cwd from sys.path.\n",
      "D:\\ProgramData\\Anaconda3\\lib\\site-packages\\ipykernel_launcher.py:7: UserWarning: Boolean Series key will be reindexed to match DataFrame index.\n",
      "  import sys\n"
     ]
    },
    {
     "data": {
      "text/plain": [
       "(2039, 16)"
      ]
     },
     "execution_count": 48,
     "metadata": {},
     "output_type": "execute_result"
    }
   ],
   "source": [
    "X_nopad = X_aug[~X_aug.index.isin(padded_rows)]\n",
    "Y_nopad = Y[~Y.index.isin(padded_rows)]\n",
    "# Remove a single well to use as a blind test later\n",
    "X_blind = X_nopad[well == '7/1-2 S']\n",
    "Y_blind = Y_nopad[well == '7/1-2 S']\n",
    "\n",
    "X_nopad = X_nopad[well != '7/1-2 S']\n",
    "Y_nopad = Y_nopad[well != '7/1-2 S']\n",
    "X_blind.shape"
   ]
  },
  {
   "cell_type": "markdown",
   "metadata": {},
   "source": [
    "##### Shuffle the data"
   ]
  },
  {
   "cell_type": "code",
   "execution_count": 49,
   "metadata": {},
   "outputs": [
    {
     "name": "stderr",
     "output_type": "stream",
     "text": [
      "D:\\ProgramData\\Anaconda3\\lib\\site-packages\\ipykernel_launcher.py:3: UserWarning: Boolean Series key will be reindexed to match DataFrame index.\n",
      "  This is separate from the ipykernel package so we can avoid doing imports until\n"
     ]
    }
   ],
   "source": [
    "X_s, Y_s = DataFrame([]), DataFrame([])\n",
    "for w in wells:\n",
    "    Xsh, Ysh = shuffle(X_nopad[well == w], Y_nopad[well == w], random_state=seed_value)\n",
    "    X_s = pd.concat([X_s, Xsh], axis=0, sort=False)\n",
    "    Y_s = pd.concat([Y_s, Ysh], axis=0, sort=False)"
   ]
  },
  {
   "cell_type": "markdown",
   "metadata": {},
   "source": [
    "##### Scale the features"
   ]
  },
  {
   "cell_type": "code",
   "execution_count": 50,
   "metadata": {},
   "outputs": [],
   "source": [
    "scaler = StandardScaler()\n",
    "#scaler = RobustScaler(quantile_range=(25.0, 75.0))"
   ]
  },
  {
   "cell_type": "code",
   "execution_count": 51,
   "metadata": {},
   "outputs": [],
   "source": [
    "X_s = DataFrame(scaler.fit_transform(X_s), index=X_s.index, columns=X_s.columns)"
   ]
  },
  {
   "cell_type": "markdown",
   "metadata": {},
   "source": [
    "##### Split into train and test data"
   ]
  },
  {
   "cell_type": "code",
   "execution_count": 52,
   "metadata": {},
   "outputs": [],
   "source": [
    "X_train, X_test, Y_train, Y_test = train_test_split(X_s, Y_s, test_size=0.1, random_state=seed_value)\n",
    "dw=data_weights[Y_train.index].values\n",
    "Y_train=Y_train.to_numpy().ravel()\n",
    "X_train=X_train.to_numpy()\n",
    "from sklearn.utils import class_weight\n",
    "class_weights = dict(zip(np.unique(Y_train), class_weight.compute_class_weight(class_weight='balanced',\n",
    "                                                  classes=np.unique(Y_train), \n",
    "                                                  y=Y_train)))"
   ]
  },
  {
   "cell_type": "code",
   "execution_count": null,
   "metadata": {},
   "outputs": [],
   "source": [
    "import lightgbm as lgbm\n",
    "from sklearn.metrics import fbeta_score, make_scorer\n",
    "# Train classifier\n",
    "grid = {'learning_rate': [0.05, 0.1, 0.15, 0.2], \n",
    "        'num_iterations': [200, 300, 400, 500], \n",
    "        'bagging_fraction': [0.7, 0.8, 0.9, 1], \n",
    "        'feature_fraction': [0.3, 0.4, 0.5, 0.6], \n",
    "        'num_leaves': [6, 15, 40, 120],\n",
    "        'reg_alpha': [0.2, 0.5, 1, 1.2], \n",
    "        'subsample' : [0.7, 0.75, 0.9],\n",
    "        'colsample_bytree' : [0.5, 0.65, 0.8, 0.9],\n",
    "        'max_depth': [5, 10, 15, 20]}\n",
    "\n",
    "modelgbm = OneVsOneClassifier(lgbm.LGBMClassifier(class_weight= 'balanced', random_state=seed_value, \n",
    "                                                  objective='multiclass'))\n",
    "model = RandomizedSearchCV(estimator=modelgbm, param_distributions=grid, \n",
    "                        scoring=make_scorer(score, greater_is_better=False), n_iter=250, \n",
    "                        cv=KFold(n_splits=5, shuffle=True, random_state=seed_value), \n",
    "                        random_state=seed_value, n_jobs=5, verbose=5)\n",
    "model.fit(X_train, Y_train)\n",
    "#modelgbm = OneVsOneClassifier(lgbm.LGBMClassifier(n_estimators=200, #learning_rate=0.05, max_depth=10,\n",
    "#                               min_child_weight=5, min_child_samples=20, class_weight= 'balanced',\n",
    "#                               random_state=seed_value, #subsample=0.9, reg_alpha=0.5, colsample_bytree=0.9\n",
    "                                                 ))"
   ]
  },
  {
   "cell_type": "code",
   "execution_count": 83,
   "metadata": {},
   "outputs": [
    {
     "data": {
      "text/plain": [
       "OneVsOneClassifier(estimator=LGBMClassifier(boosting_type='gbdt',\n",
       "                                            class_weight='balanced',\n",
       "                                            colsample_bytree=1.0,\n",
       "                                            importance_type='split',\n",
       "                                            learning_rate=0.005, max_depth=-1,\n",
       "                                            min_child_samples=20,\n",
       "                                            min_child_weight=0.001,\n",
       "                                            min_split_gain=0.0,\n",
       "                                            n_estimators=500, n_jobs=-1,\n",
       "                                            num_leaves=31, objective=None,\n",
       "                                            random_state=42, reg_alpha=0.0,\n",
       "                                            reg_lambda=0.0, silent=True,\n",
       "                                            subsample=1.0,\n",
       "                                            subsample_for_bin=200000,\n",
       "                                            subsample_freq=0),\n",
       "                   n_jobs=None)"
      ]
     },
     "execution_count": 83,
     "metadata": {},
     "output_type": "execute_result"
    }
   ],
   "source": [
    "import lightgbm as lgbm\n",
    "modelgbm = OneVsOneClassifier(lgbm.LGBMClassifier(n_estimators=500, learning_rate=0.005, class_weight= 'balanced', \n",
    "                                                  random_state=seed_value))\n",
    "modelgbm.fit(X_train, Y_train)#, sample_weight=dw"
   ]
  },
  {
   "cell_type": "code",
   "execution_count": null,
   "metadata": {},
   "outputs": [],
   "source": [
    "# Best params from GradientBoostingClassifier's optimization\n",
    "param = {'MED': 1, 'S': 25, 'R': 0.1, 'Sub': 1, 'Loss': 'exponential', 'M': 10, 'L': 5, 'N': 100}\n",
    "\n",
    "# Train classifier\n",
    "modelgbc = OneVsOneClassifier(GradientBoostingClassifier(loss=param['Loss'], n_estimators=param['N'],\n",
    "                                                      learning_rate=param['R'], max_features=param['M'],\n",
    "                                                      min_samples_leaf=param['L'], min_samples_split=param['S'],\n",
    "                                                      random_state=seed_value, subsample=param['Sub'],\n",
    "                                                      max_leaf_nodes=None, verbose=0))"
   ]
  },
  {
   "cell_type": "code",
   "execution_count": null,
   "metadata": {},
   "outputs": [],
   "source": [
    "# XGBoost\n",
    "modelxgb = xgb.XGBClassifier(n_estimators=200, max_depth=3, gamma=0.5, reg_alpha=0.5,\n",
    "                             learning_rate=0.05, min_child_weight=10, subsample=0.9, #class_weight= class_weights,\n",
    "                             colsample_bytree=0.9, seed=seed_value)"
   ]
  },
  {
   "cell_type": "code",
   "execution_count": null,
   "metadata": {},
   "outputs": [],
   "source": [
    "modelxgb.fit(X_train, Y_train, sample_weight=dw)"
   ]
  },
  {
   "cell_type": "code",
   "execution_count": null,
   "metadata": {},
   "outputs": [],
   "source": [
    "# RFC\n",
    "param = {'S': 25, 'M': 10, 'L': 5, 'N': 100}\n",
    "modelrfc = OneVsOneClassifier(RandomForestClassifier(n_estimators=param['N'], criterion='entropy',\n",
    "                                                     max_features=param['M'], min_samples_split=param['S'], \n",
    "                                                     min_samples_leaf=param['L'],\n",
    "                                                     class_weight='balanced', random_state=seed_value))"
   ]
  },
  {
   "cell_type": "code",
   "execution_count": null,
   "metadata": {},
   "outputs": [],
   "source": [
    "# SVC\n",
    "modelsvc = SVC(kernel='rbf', C=100, gamma=1)"
   ]
  },
  {
   "cell_type": "code",
   "execution_count": null,
   "metadata": {},
   "outputs": [],
   "source": [
    "#modelgbc.fit(X_train, Y_train)\n",
    "modelsvc.fit(X_train, Y_train)"
   ]
  },
  {
   "cell_type": "code",
   "execution_count": null,
   "metadata": {},
   "outputs": [],
   "source": [
    "modelrfc.fit(X_train, Y_train)"
   ]
  },
  {
   "cell_type": "markdown",
   "metadata": {},
   "source": [
    "#### Test model"
   ]
  },
  {
   "cell_type": "code",
   "execution_count": 84,
   "metadata": {},
   "outputs": [],
   "source": [
    "model=modelgbm"
   ]
  },
  {
   "cell_type": "code",
   "execution_count": null,
   "metadata": {},
   "outputs": [],
   "source": [
    "Y_pred = model.predict(X_test.to_numpy())"
   ]
  },
  {
   "cell_type": "code",
   "execution_count": null,
   "metadata": {},
   "outputs": [],
   "source": [
    "score(Y_test.values, Y_pred)"
   ]
  },
  {
   "cell_type": "code",
   "execution_count": 80,
   "metadata": {},
   "outputs": [
    {
     "name": "stdout",
     "output_type": "stream",
     "text": [
      "     Pred    SS SS-Sh    Sh  Marl   Dol  Lims Chlk    Hal  Anhy   Tuf  Coal  Bsmt Total\n",
      "     True\n",
      "       SS 12656  1542   772   408   124   757    28           2   296   317     1 16903\n",
      "    SS-Sh  1515 10155  1724   433   195   391     3               323   194     5 14938\n",
      "       Sh  1215  6630 52771  2896  1824  1417    11    24     2  3999  1113     5 71907\n",
      "     Marl    48    62   160  2630    29   335    31                49    12        3356\n",
      "      Dol     3     3     9     2   146     7                 2     5               177\n",
      "     Lims   181   232   378   427   148  3910   212           9   121    40        5658\n",
      "    Chlk                        2     1    29  1009           1     2              1044\n",
      "      Hal     1                                       822     8           2         833\n",
      "     Anhy                       2     2     2           3   115                     124\n",
      "      Tuf     8     3    52    22    20    12                    1376     4        1497\n",
      "     Coal    15     7     9                 1                       1   350         383\n",
      "     Bsmt                                                                      18    18\n",
      "\n",
      "Precision  0.81  0.54  0.94  0.39  0.06  0.57  0.78  0.97  0.83  0.22  0.17  0.62  0.83\n",
      "   Recall  0.75  0.68  0.73  0.78  0.82  0.69  0.97  0.99  0.93  0.92  0.91  1.00  0.74\n",
      "       F1  0.78  0.60  0.83  0.52  0.11  0.62  0.86  0.98  0.87  0.36  0.29  0.77  0.76\n"
     ]
    }
   ],
   "source": [
    "conf_mat=confusion_matrix(Y_test.values, Y_pred)\n",
    "facies_labels = ['SS', 'SS-Sh', 'Sh', ' Marl', 'Dol', 'Lims', 'Chlk ', 'Hal', 'Anhy', 'Tuf', 'Coal', 'Bsmt']\n",
    "display_cm(conf_mat, facies_labels, display_metrics=True, hide_zeros=True)"
   ]
  },
  {
   "cell_type": "code",
   "execution_count": 73,
   "metadata": {},
   "outputs": [
    {
     "data": {
      "text/plain": [
       "-0.9838155958803335"
      ]
     },
     "execution_count": 73,
     "metadata": {},
     "output_type": "execute_result"
    }
   ],
   "source": [
    "X_blind = DataFrame(scaler.transform(X_blind), index=X_blind.index, columns=X_blind.columns)\n",
    "Y_blind_pred = model.predict(X_blind.to_numpy())\n",
    "score(Y_blind.values, Y_blind_pred)"
   ]
  },
  {
   "cell_type": "code",
   "execution_count": 81,
   "metadata": {},
   "outputs": [
    {
     "name": "stdout",
     "output_type": "stream",
     "text": [
      "     Pred    SS SS-Sh    Sh Total\n",
      "     True\n",
      "       SS  1375              1375\n",
      "    SS-Sh   212               212\n",
      "       Sh   452               452\n",
      "\n",
      "Precision  0.67  0.00  0.00  0.45\n",
      "   Recall  1.00  0.00  0.00  0.67\n",
      "       F1  0.81  0.00  0.00  0.54\n"
     ]
    },
    {
     "name": "stderr",
     "output_type": "stream",
     "text": [
      "D:\\ProgramData\\Anaconda3\\lib\\site-packages\\ipykernel_launcher.py:120: RuntimeWarning: invalid value encountered in true_divide\n"
     ]
    }
   ],
   "source": [
    "conf_mat=confusion_matrix(Y_blind.values, Y_blind_pred)\n",
    "facies_labels_blind = [facies_labels[np.sort(Y_blind.unique())[i]] for i in np.sort(Y_blind.unique()) ]\n",
    "display_cm(conf_mat, facies_labels_blind, display_metrics=True, hide_zeros=True)"
   ]
  },
  {
   "cell_type": "code",
   "execution_count": 82,
   "metadata": {},
   "outputs": [
    {
     "name": "stderr",
     "output_type": "stream",
     "text": [
      "D:\\ProgramData\\Anaconda3\\lib\\site-packages\\ipykernel_launcher.py:102: UserWarning: Attempting to set identical left == right == -0.6211256839190359 results in singular transformations; automatically expanding.\n"
     ]
    },
    {
     "data": {
      "image/png": "[encoded data removed]",
      "text/plain": [
       "<Figure size 864x864 with 9 Axes>"
      ]
     },
     "metadata": {
      "needs_background": "light"
     },
     "output_type": "display_data"
    }
   ],
   "source": [
    "logs = pd.concat([X_blind.iloc[:,:len(X_imp1.columns)], depth[well =='7/1-2 S'], \n",
    "                  Y_blind], axis=1).rename(columns = {'FORCE_2020_LITHOFACIES_LITHOLOGY':'litho_real', 'DEPTH_MD':'Depth'})\n",
    "logs = pd.concat([logs, Series(Y_blind_pred, index=Y_blind.index)], axis=1).rename(columns = {0:'litho_pred'})\n",
    "facies_colors_blind = [facies_colors[int(np.unique(Y_blind)[i])] for i in range(np.unique(Y_blind).shape[0])]\n",
    "compare_facies_plot(logs, '7/1-2 S', ['SS', 'SS-Sh', 'Sh'], facies_colors_blind, int(np.unique(Y_blind).max()))"
   ]
  },
  {
   "cell_type": "markdown",
   "metadata": {},
   "source": [
    "##### Example submission: weekly leaderboard\n",
    "For the weekly leaderboard that will start September 1st, you are asked to submit predictions on the supplied open dataset in the file `test.csv`. This file contains all the columns that are in the training data except LITHOLOGY and LITHOLOGY_CONFIDENCE. Notice that the test data will also have missing columns. It is therefore important that your inference pipeline has the treatment of these missing columns as part of the pre-processing step."
   ]
  },
  {
   "cell_type": "code",
   "execution_count": null,
   "metadata": {},
   "outputs": [],
   "source": [
    "data_test = pd.read_csv('D:/.jupyter/Machine_Predicted_Lithology/test.csv', sep=';')"
   ]
  },
  {
   "cell_type": "code",
   "execution_count": null,
   "metadata": {},
   "outputs": [],
   "source": [
    "# Store well labels and depths\n",
    "well_test = data_test['WELL']\n",
    "depth_test = data_test['DEPTH_MD']#.values #['WELL',]\n",
    "Strat_test = data_test['GROUP']#.values #['WELL',]\n",
    "Formation_test = data_test['FORMATION']\n",
    "data_test.info()"
   ]
  },
  {
   "cell_type": "code",
   "execution_count": null,
   "metadata": {},
   "outputs": [],
   "source": [
    "feature_testdata=data_test[feature_names]\n",
    "feature_testdata['RSHA'] = np.log10(feature_testdata['RSHA'])\n",
    "feature_testdata['RMED'] = np.log10(feature_testdata['RMED'])\n",
    "feature_testdata['RDEP'] = np.log10(feature_testdata['RDEP'])\n",
    "feature_testdata.describe()#isna().sum()"
   ]
  },
  {
   "cell_type": "code",
   "execution_count": null,
   "metadata": {},
   "outputs": [],
   "source": [
    "feature_test = apply_filter(DataFrame(imp.transform(feature_testdata), \n",
    "                                      index=feature_testdata.index, columns=feature_testdata.columns))\n",
    "feature_test=feature_testdata.where(feature_testdata.notnull(), feature_test, axis=0)\n",
    "feature_test['CALIBS']=feature_test['CALI']-feature_test['BS']"
   ]
  },
  {
   "cell_type": "code",
   "execution_count": null,
   "metadata": {},
   "outputs": [],
   "source": [
    "# Augment features\n",
    "feature_test2=feature_test.drop(to_drop, axis=1)\n",
    "feature_test_aug, padded_rows_test = augment_features(feature_test2, well_test, depth_test)\n",
    "col=list(feature_test2.columns.values)\n",
    "col= col + ['Delta' + sub for sub in col]\n",
    "feature_test_aug = DataFrame(feature_test_aug, index=feature_test.index, columns=col)\n",
    "len(padded_rows_test)\n",
    "feature_test_aug.shape"
   ]
  },
  {
   "cell_type": "code",
   "execution_count": null,
   "metadata": {},
   "outputs": [],
   "source": [
    "feature_test_aug = DataFrame(scaler.transform(feature_test_aug), \n",
    "                             index=feature_test_aug.index, columns=feature_test_aug.columns)\n",
    "test_prediction = model.predict(feature_test_aug)"
   ]
  },
  {
   "cell_type": "code",
   "execution_count": null,
   "metadata": {
    "scrolled": true
   },
   "outputs": [],
   "source": [
    "test_prediction"
   ]
  },
  {
   "cell_type": "code",
   "execution_count": null,
   "metadata": {},
   "outputs": [],
   "source": [
    "np.unique(well_test)"
   ]
  },
  {
   "cell_type": "code",
   "execution_count": null,
   "metadata": {},
   "outputs": [],
   "source": [
    "w='35/9-8'\n",
    "logs = pd.concat([feature_test, depth_test, \n",
    "                  DataFrame(test_prediction)], axis=1).rename(columns = {0:'litho_real', 'DEPTH_MD':'Depth'})\n",
    "make_facies_log_plot(logs[well_test==w], ['GR', 'RHOB', 'NPHI', 'RDEP', 'DTC', 'PEF', 'SP'], w,\n",
    "                     facies_colors)"
   ]
  },
  {
   "cell_type": "markdown",
   "metadata": {},
   "source": [
    "**Important:** Before submitting we must map these predictions back to the lithology labels"
   ]
  },
  {
   "cell_type": "code",
   "execution_count": null,
   "metadata": {},
   "outputs": [],
   "source": [
    "category_to_lithology = {y:x for x,y in lithology_numbers.items()}"
   ]
  },
  {
   "cell_type": "code",
   "execution_count": null,
   "metadata": {},
   "outputs": [],
   "source": [
    "test_prediction_for_submission = np.vectorize(category_to_lithology.get)(test_prediction)"
   ]
  },
  {
   "cell_type": "code",
   "execution_count": null,
   "metadata": {},
   "outputs": [],
   "source": [
    "test_prediction_for_submission"
   ]
  },
  {
   "cell_type": "code",
   "execution_count": null,
   "metadata": {},
   "outputs": [],
   "source": [
    "np.savetxt('test_predictions.csv', test_prediction_for_submission, header='lithology', comments='', fmt='%i')"
   ]
  },
  {
   "cell_type": "markdown",
   "metadata": {},
   "source": [
    "### Submitting code for final scoring\n",
    "At the end of the competition, the highest performing teams are invited to submit code for blind scoring on a hidden test dataset. The winner will be the team with the best score on the hidden test dataset, not the weekly leaderboard. In order to do this, you must submit the following in a zip-file:\n",
    "* Code to do the inference\n",
    "* Any persisted data in the form of pre-trained model or models, scalers, and more\n",
    "* Information about your environment\n",
    "\n",
    "There are many ways of doing this. In the example above, the code to do the inference would be the `Model` class in a python-file, the persisted data would be the files `model.pkl` and `scaler.pkl`. \n",
    "\n",
    "Your python environment needs to be replicable by the judges of the competition. There are many ways of doing this. Examples include dumping pip package versions to a file"
   ]
  },
  {
   "cell_type": "code",
   "execution_count": null,
   "metadata": {},
   "outputs": [],
   "source": [
    "!pip freeze > requirements.txt"
   ]
  },
  {
   "cell_type": "markdown",
   "metadata": {},
   "source": [
    "If you are using Anaconda, then you can export an envionment file as follows"
   ]
  },
  {
   "cell_type": "code",
   "execution_count": null,
   "metadata": {},
   "outputs": [],
   "source": [
    "!conda env export > environment.yml"
   ]
  },
  {
   "cell_type": "markdown",
   "metadata": {},
   "source": [
    "Other options include `Docker`, `pipenv` and many more."
   ]
  }
 ],
 "metadata": {
  "kernelspec": {
   "display_name": "Python 3",
   "language": "python",
   "name": "python3"
  },
  "language_info": {
   "codemirror_mode": {
    "name": "ipython",
    "version": 3
   },
   "file_extension": ".py",
   "mimetype": "text/x-python",
   "name": "python",
   "nbconvert_exporter": "python",
   "pygments_lexer": "ipython3",
   "version": "3.7.7"
  }
 },
 "nbformat": 4,
 "nbformat_minor": 4
}
